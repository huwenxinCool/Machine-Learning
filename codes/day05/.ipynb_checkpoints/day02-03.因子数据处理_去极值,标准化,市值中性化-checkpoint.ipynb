{
 "cells": [
  {
   "cell_type": "code",
   "execution_count": 13,
   "metadata": {},
   "outputs": [],
   "source": [
    "# 1 去极值\n",
    "# 1.1 分位数去极值\n",
    "# 1.1.1 调用winsorize,进行去极值\n",
    "from scipy.stats.mstats import winsorize"
   ]
  },
  {
   "cell_type": "code",
   "execution_count": 14,
   "metadata": {},
   "outputs": [],
   "source": [
    "# 获取2018年1月3日所有A股的pe_ratio因子值\n",
    "# 绘制前1000只股票pe_ratio图\n",
    "# 绘制前1000只股票经过去极值后的pe_ratio1图"
   ]
  },
  {
   "cell_type": "code",
   "execution_count": 15,
   "metadata": {},
   "outputs": [],
   "source": [
    "# 获取2018年1月3日所有A股的pe_ratio因子值\n",
    "q = query(fundamentals.eod_derivative_indicator.pe_ratio)\n",
    "\n",
    "fund_data = get_fundamentals(q, entry_date=\"20180103\")[:,\"20180103\", :]"
   ]
  },
  {
   "cell_type": "code",
   "execution_count": 16,
   "metadata": {},
   "outputs": [
    {
     "data": {
      "text/html": [
       "<div>\n",
       "<style scoped>\n",
       "    .dataframe tbody tr th:only-of-type {\n",
       "        vertical-align: middle;\n",
       "    }\n",
       "\n",
       "    .dataframe tbody tr th {\n",
       "        vertical-align: top;\n",
       "    }\n",
       "\n",
       "    .dataframe thead th {\n",
       "        text-align: right;\n",
       "    }\n",
       "</style>\n",
       "<table border=\"1\" class=\"dataframe\">\n",
       "  <thead>\n",
       "    <tr style=\"text-align: right;\">\n",
       "      <th></th>\n",
       "      <th>pe_ratio</th>\n",
       "    </tr>\n",
       "  </thead>\n",
       "  <tbody>\n",
       "    <tr>\n",
       "      <th>601211.XSHG</th>\n",
       "      <td>16.9137</td>\n",
       "    </tr>\n",
       "    <tr>\n",
       "      <th>002705.XSHE</th>\n",
       "      <td>25.5779</td>\n",
       "    </tr>\n",
       "    <tr>\n",
       "      <th>300531.XSHE</th>\n",
       "      <td>92.4438</td>\n",
       "    </tr>\n",
       "    <tr>\n",
       "      <th>300363.XSHE</th>\n",
       "      <td>52.8478</td>\n",
       "    </tr>\n",
       "    <tr>\n",
       "      <th>600977.XSHG</th>\n",
       "      <td>30.1147</td>\n",
       "    </tr>\n",
       "  </tbody>\n",
       "</table>\n",
       "</div>"
      ],
      "text/plain": [
       "            pe_ratio\n",
       "601211.XSHG  16.9137\n",
       "002705.XSHE  25.5779\n",
       "300531.XSHE  92.4438\n",
       "300363.XSHE  52.8478\n",
       "600977.XSHG  30.1147"
      ]
     },
     "execution_count": 16,
     "metadata": {},
     "output_type": "execute_result"
    }
   ],
   "source": [
    "fund_data.head()"
   ]
  },
  {
   "cell_type": "code",
   "execution_count": 17,
   "metadata": {},
   "outputs": [
    {
     "data": {
      "text/plain": [
       "<matplotlib.axes._subplots.AxesSubplot at 0x7f4d4d5d5b38>"
      ]
     },
     "execution_count": 17,
     "metadata": {},
     "output_type": "execute_result"
    },
    {
     "data": {
      "image/png": "[encoded data removed]",
      "text/plain": [
       "<Figure size 432x288 with 1 Axes>"
      ]
     },
     "metadata": {},
     "output_type": "display_data"
    }
   ],
   "source": [
    "# 绘制前1000只股票pe_ratio图\n",
    "fund_data[\"pe_ratio\"][:1000].plot()"
   ]
  },
  {
   "cell_type": "code",
   "execution_count": 18,
   "metadata": {},
   "outputs": [],
   "source": [
    "# 绘制前1000只股票经过去极值后的pe_ratio1图\n",
    "fund_data[\"pe_ratio1\"] = winsorize(fund_data[\"pe_ratio\"], limits=0.025)"
   ]
  },
  {
   "cell_type": "code",
   "execution_count": 19,
   "metadata": {},
   "outputs": [
    {
     "data": {
      "text/html": [
       "<div>\n",
       "<style scoped>\n",
       "    .dataframe tbody tr th:only-of-type {\n",
       "        vertical-align: middle;\n",
       "    }\n",
       "\n",
       "    .dataframe tbody tr th {\n",
       "        vertical-align: top;\n",
       "    }\n",
       "\n",
       "    .dataframe thead th {\n",
       "        text-align: right;\n",
       "    }\n",
       "</style>\n",
       "<table border=\"1\" class=\"dataframe\">\n",
       "  <thead>\n",
       "    <tr style=\"text-align: right;\">\n",
       "      <th></th>\n",
       "      <th>pe_ratio</th>\n",
       "      <th>pe_ratio1</th>\n",
       "    </tr>\n",
       "  </thead>\n",
       "  <tbody>\n",
       "    <tr>\n",
       "      <th>601211.XSHG</th>\n",
       "      <td>16.9137</td>\n",
       "      <td>16.9137</td>\n",
       "    </tr>\n",
       "    <tr>\n",
       "      <th>002705.XSHE</th>\n",
       "      <td>25.5779</td>\n",
       "      <td>25.5779</td>\n",
       "    </tr>\n",
       "    <tr>\n",
       "      <th>300531.XSHE</th>\n",
       "      <td>92.4438</td>\n",
       "      <td>92.4438</td>\n",
       "    </tr>\n",
       "    <tr>\n",
       "      <th>300363.XSHE</th>\n",
       "      <td>52.8478</td>\n",
       "      <td>52.8478</td>\n",
       "    </tr>\n",
       "    <tr>\n",
       "      <th>600977.XSHG</th>\n",
       "      <td>30.1147</td>\n",
       "      <td>30.1147</td>\n",
       "    </tr>\n",
       "  </tbody>\n",
       "</table>\n",
       "</div>"
      ],
      "text/plain": [
       "            pe_ratio pe_ratio1\n",
       "601211.XSHG  16.9137   16.9137\n",
       "002705.XSHE  25.5779   25.5779\n",
       "300531.XSHE  92.4438   92.4438\n",
       "300363.XSHE  52.8478   52.8478\n",
       "600977.XSHG  30.1147   30.1147"
      ]
     },
     "execution_count": 19,
     "metadata": {},
     "output_type": "execute_result"
    }
   ],
   "source": [
    "fund_data.head()"
   ]
  },
  {
   "cell_type": "code",
   "execution_count": 20,
   "metadata": {},
   "outputs": [
    {
     "data": {
      "text/plain": [
       "<matplotlib.axes._subplots.AxesSubplot at 0x7f4d4d4e57f0>"
      ]
     },
     "execution_count": 20,
     "metadata": {},
     "output_type": "execute_result"
    },
    {
     "data": {
      "image/png": "[encoded data removed]",
      "text/plain": [
       "<Figure size 432x288 with 1 Axes>"
      ]
     },
     "metadata": {},
     "output_type": "display_data"
    }
   ],
   "source": [
    "fund_data[\"pe_ratio\"][:1000].plot()\n",
    "fund_data[\"pe_ratio1\"][:1000].plot()"
   ]
  },
  {
   "cell_type": "code",
   "execution_count": 21,
   "metadata": {},
   "outputs": [],
   "source": [
    "# 1.1.2 自实现\n",
    "import numpy as np\n",
    "# 自实现分位数法去极值\n",
    "def quantile(factor,up,down):\n",
    "    # 分位数去极值\n",
    "    up_scale = np.percentile(factor, up)\n",
    "    down_scale = np.percentile(factor, down)\n",
    "    factor = np.where(factor > up_scale, up_scale, factor)\n",
    "    factor = np.where(factor < down_scale, down_scale, factor)\n",
    "    return factor"
   ]
  },
  {
   "cell_type": "code",
   "execution_count": 22,
   "metadata": {},
   "outputs": [],
   "source": [
    "fund_data[\"pe_ratio2\"] = quantile(fund_data[\"pe_ratio\"], 97.5, 2.5)"
   ]
  },
  {
   "cell_type": "code",
   "execution_count": 23,
   "metadata": {},
   "outputs": [
    {
     "data": {
      "text/html": [
       "<div>\n",
       "<style scoped>\n",
       "    .dataframe tbody tr th:only-of-type {\n",
       "        vertical-align: middle;\n",
       "    }\n",
       "\n",
       "    .dataframe tbody tr th {\n",
       "        vertical-align: top;\n",
       "    }\n",
       "\n",
       "    .dataframe thead th {\n",
       "        text-align: right;\n",
       "    }\n",
       "</style>\n",
       "<table border=\"1\" class=\"dataframe\">\n",
       "  <thead>\n",
       "    <tr style=\"text-align: right;\">\n",
       "      <th></th>\n",
       "      <th>pe_ratio</th>\n",
       "      <th>pe_ratio1</th>\n",
       "      <th>pe_ratio2</th>\n",
       "    </tr>\n",
       "  </thead>\n",
       "  <tbody>\n",
       "    <tr>\n",
       "      <th>601211.XSHG</th>\n",
       "      <td>16.9137</td>\n",
       "      <td>16.9137</td>\n",
       "      <td>16.9137</td>\n",
       "    </tr>\n",
       "    <tr>\n",
       "      <th>002705.XSHE</th>\n",
       "      <td>25.5779</td>\n",
       "      <td>25.5779</td>\n",
       "      <td>25.5779</td>\n",
       "    </tr>\n",
       "    <tr>\n",
       "      <th>300531.XSHE</th>\n",
       "      <td>92.4438</td>\n",
       "      <td>92.4438</td>\n",
       "      <td>92.4438</td>\n",
       "    </tr>\n",
       "    <tr>\n",
       "      <th>300363.XSHE</th>\n",
       "      <td>52.8478</td>\n",
       "      <td>52.8478</td>\n",
       "      <td>52.8478</td>\n",
       "    </tr>\n",
       "    <tr>\n",
       "      <th>600977.XSHG</th>\n",
       "      <td>30.1147</td>\n",
       "      <td>30.1147</td>\n",
       "      <td>30.1147</td>\n",
       "    </tr>\n",
       "  </tbody>\n",
       "</table>\n",
       "</div>"
      ],
      "text/plain": [
       "            pe_ratio pe_ratio1 pe_ratio2\n",
       "601211.XSHG  16.9137   16.9137   16.9137\n",
       "002705.XSHE  25.5779   25.5779   25.5779\n",
       "300531.XSHE  92.4438   92.4438   92.4438\n",
       "300363.XSHE  52.8478   52.8478   52.8478\n",
       "600977.XSHG  30.1147   30.1147   30.1147"
      ]
     },
     "execution_count": 23,
     "metadata": {},
     "output_type": "execute_result"
    }
   ],
   "source": [
    "fund_data.head()"
   ]
  },
  {
   "cell_type": "code",
   "execution_count": 24,
   "metadata": {},
   "outputs": [
    {
     "data": {
      "text/plain": [
       "<matplotlib.axes._subplots.AxesSubplot at 0x7f4d4d5f3be0>"
      ]
     },
     "execution_count": 24,
     "metadata": {},
     "output_type": "execute_result"
    },
    {
     "data": {
      "image/png": "[encoded data removed]",
      "text/plain": [
       "<Figure size 432x288 with 1 Axes>"
      ]
     },
     "metadata": {},
     "output_type": "display_data"
    }
   ],
   "source": [
    "fund_data[\"pe_ratio\"][:1000].plot()\n",
    "fund_data[\"pe_ratio2\"][:1000].plot()"
   ]
  },
  {
   "cell_type": "code",
   "execution_count": 28,
   "metadata": {},
   "outputs": [],
   "source": [
    "# 1.2 中位数绝对偏差去极值\n",
    "\n",
    "import numpy as np\n",
    "# 中位数绝对偏差去极值\n",
    "def mad_method(factor):\n",
    "    # 1 找出因子的中位数 median\n",
    "    med1 = np.median(factor)\n",
    "    \n",
    "    # 2 得到每个因子值与中位数的绝对偏差值 |x – median|\n",
    "    factor1 = np.abs(factor - med1)\n",
    "    \n",
    "    # 3 得到绝对偏差值的中位数， MAD，median(|x – median|)\n",
    "    MAD = np.median(factor1)\n",
    "    \n",
    "    # 4 计算MAD_e = 1.4826*MAD，然后确定参数 n，做出调整\n",
    "    MAD_e = 1.4826 * MAD\n",
    "    \n",
    "    # 5 求出上下限值\n",
    "    up_scale = med1 + 3 * MAD_e\n",
    "    down_scale = med1 - 3 * MAD_e\n",
    "    \n",
    "    # 6 进行替换\n",
    "    factor = np.where(factor<up_scale, factor, up_scale)\n",
    "    factor = np.where(factor>down_scale, factor, down_scale)\n",
    "    \n",
    "    return factor\n"
   ]
  },
  {
   "cell_type": "code",
   "execution_count": 29,
   "metadata": {},
   "outputs": [],
   "source": [
    "fund_data[\"pe_ratio3\"] = mad_method(fund_data[\"pe_ratio\"])"
   ]
  },
  {
   "cell_type": "code",
   "execution_count": 31,
   "metadata": {},
   "outputs": [
    {
     "data": {
      "text/html": [
       "<div>\n",
       "<style scoped>\n",
       "    .dataframe tbody tr th:only-of-type {\n",
       "        vertical-align: middle;\n",
       "    }\n",
       "\n",
       "    .dataframe tbody tr th {\n",
       "        vertical-align: top;\n",
       "    }\n",
       "\n",
       "    .dataframe thead th {\n",
       "        text-align: right;\n",
       "    }\n",
       "</style>\n",
       "<table border=\"1\" class=\"dataframe\">\n",
       "  <thead>\n",
       "    <tr style=\"text-align: right;\">\n",
       "      <th></th>\n",
       "      <th>pe_ratio</th>\n",
       "      <th>pe_ratio1</th>\n",
       "      <th>pe_ratio2</th>\n",
       "      <th>pe_ratio3</th>\n",
       "    </tr>\n",
       "  </thead>\n",
       "  <tbody>\n",
       "    <tr>\n",
       "      <th>601211.XSHG</th>\n",
       "      <td>16.9137</td>\n",
       "      <td>16.9137</td>\n",
       "      <td>16.9137</td>\n",
       "      <td>16.9137</td>\n",
       "    </tr>\n",
       "    <tr>\n",
       "      <th>002705.XSHE</th>\n",
       "      <td>25.5779</td>\n",
       "      <td>25.5779</td>\n",
       "      <td>25.5779</td>\n",
       "      <td>25.5779</td>\n",
       "    </tr>\n",
       "    <tr>\n",
       "      <th>300531.XSHE</th>\n",
       "      <td>92.4438</td>\n",
       "      <td>92.4438</td>\n",
       "      <td>92.4438</td>\n",
       "      <td>92.4438</td>\n",
       "    </tr>\n",
       "    <tr>\n",
       "      <th>300363.XSHE</th>\n",
       "      <td>52.8478</td>\n",
       "      <td>52.8478</td>\n",
       "      <td>52.8478</td>\n",
       "      <td>52.8478</td>\n",
       "    </tr>\n",
       "    <tr>\n",
       "      <th>600977.XSHG</th>\n",
       "      <td>30.1147</td>\n",
       "      <td>30.1147</td>\n",
       "      <td>30.1147</td>\n",
       "      <td>30.1147</td>\n",
       "    </tr>\n",
       "  </tbody>\n",
       "</table>\n",
       "</div>"
      ],
      "text/plain": [
       "            pe_ratio pe_ratio1 pe_ratio2 pe_ratio3\n",
       "601211.XSHG  16.9137   16.9137   16.9137   16.9137\n",
       "002705.XSHE  25.5779   25.5779   25.5779   25.5779\n",
       "300531.XSHE  92.4438   92.4438   92.4438   92.4438\n",
       "300363.XSHE  52.8478   52.8478   52.8478   52.8478\n",
       "600977.XSHG  30.1147   30.1147   30.1147   30.1147"
      ]
     },
     "execution_count": 31,
     "metadata": {},
     "output_type": "execute_result"
    }
   ],
   "source": [
    "fund_data.head()"
   ]
  },
  {
   "cell_type": "code",
   "execution_count": 32,
   "metadata": {},
   "outputs": [
    {
     "data": {
      "text/plain": [
       "<matplotlib.axes._subplots.AxesSubplot at 0x7f4d490bcb70>"
      ]
     },
     "execution_count": 32,
     "metadata": {},
     "output_type": "execute_result"
    },
    {
     "data": {
      "image/png": "[encoded data removed]",
      "text/plain": [
       "<Figure size 432x288 with 1 Axes>"
      ]
     },
     "metadata": {},
     "output_type": "display_data"
    }
   ],
   "source": [
    "fund_data[\"pe_ratio\"][:1000].plot()\n",
    "fund_data[\"pe_ratio3\"][:1000].plot()"
   ]
  },
  {
   "cell_type": "code",
   "execution_count": 38,
   "metadata": {},
   "outputs": [],
   "source": [
    "# 1.3 正态分布去极值\n",
    "\n",
    "def three_sigma(factor):\n",
    "    # 1.计算均值,标准差\n",
    "    mean = factor.mean()\n",
    "    std = factor.std()\n",
    "    \n",
    "    # 2.求解替换上下限\n",
    "    up_scale = mean + 3*std\n",
    "    down_scale = mean - 3*std\n",
    "    \n",
    "    # 3.进行替换\n",
    "    factor = np.where(factor>up_scale, up_scale, factor)\n",
    "    factor = np.where(factor<down_scale, down_scale, factor)\n",
    "    \n",
    "    return factor"
   ]
  },
  {
   "cell_type": "code",
   "execution_count": 39,
   "metadata": {},
   "outputs": [],
   "source": [
    "fund_data[\"pe_ratio4\"] = three_sigma(fund_data[\"pe_ratio\"])"
   ]
  },
  {
   "cell_type": "code",
   "execution_count": 40,
   "metadata": {},
   "outputs": [
    {
     "data": {
      "text/html": [
       "<div>\n",
       "<style scoped>\n",
       "    .dataframe tbody tr th:only-of-type {\n",
       "        vertical-align: middle;\n",
       "    }\n",
       "\n",
       "    .dataframe tbody tr th {\n",
       "        vertical-align: top;\n",
       "    }\n",
       "\n",
       "    .dataframe thead th {\n",
       "        text-align: right;\n",
       "    }\n",
       "</style>\n",
       "<table border=\"1\" class=\"dataframe\">\n",
       "  <thead>\n",
       "    <tr style=\"text-align: right;\">\n",
       "      <th></th>\n",
       "      <th>pe_ratio</th>\n",
       "      <th>pe_ratio1</th>\n",
       "      <th>pe_ratio2</th>\n",
       "      <th>pe_ratio3</th>\n",
       "      <th>pe_ratio4</th>\n",
       "    </tr>\n",
       "  </thead>\n",
       "  <tbody>\n",
       "    <tr>\n",
       "      <th>601211.XSHG</th>\n",
       "      <td>16.9137</td>\n",
       "      <td>16.9137</td>\n",
       "      <td>16.9137</td>\n",
       "      <td>16.9137</td>\n",
       "      <td>16.9137</td>\n",
       "    </tr>\n",
       "    <tr>\n",
       "      <th>002705.XSHE</th>\n",
       "      <td>25.5779</td>\n",
       "      <td>25.5779</td>\n",
       "      <td>25.5779</td>\n",
       "      <td>25.5779</td>\n",
       "      <td>25.5779</td>\n",
       "    </tr>\n",
       "    <tr>\n",
       "      <th>300531.XSHE</th>\n",
       "      <td>92.4438</td>\n",
       "      <td>92.4438</td>\n",
       "      <td>92.4438</td>\n",
       "      <td>92.4438</td>\n",
       "      <td>92.4438</td>\n",
       "    </tr>\n",
       "    <tr>\n",
       "      <th>300363.XSHE</th>\n",
       "      <td>52.8478</td>\n",
       "      <td>52.8478</td>\n",
       "      <td>52.8478</td>\n",
       "      <td>52.8478</td>\n",
       "      <td>52.8478</td>\n",
       "    </tr>\n",
       "    <tr>\n",
       "      <th>600977.XSHG</th>\n",
       "      <td>30.1147</td>\n",
       "      <td>30.1147</td>\n",
       "      <td>30.1147</td>\n",
       "      <td>30.1147</td>\n",
       "      <td>30.1147</td>\n",
       "    </tr>\n",
       "  </tbody>\n",
       "</table>\n",
       "</div>"
      ],
      "text/plain": [
       "            pe_ratio pe_ratio1 pe_ratio2 pe_ratio3 pe_ratio4\n",
       "601211.XSHG  16.9137   16.9137   16.9137   16.9137   16.9137\n",
       "002705.XSHE  25.5779   25.5779   25.5779   25.5779   25.5779\n",
       "300531.XSHE  92.4438   92.4438   92.4438   92.4438   92.4438\n",
       "300363.XSHE  52.8478   52.8478   52.8478   52.8478   52.8478\n",
       "600977.XSHG  30.1147   30.1147   30.1147   30.1147   30.1147"
      ]
     },
     "execution_count": 40,
     "metadata": {},
     "output_type": "execute_result"
    }
   ],
   "source": [
    "fund_data.head()"
   ]
  },
  {
   "cell_type": "code",
   "execution_count": 41,
   "metadata": {},
   "outputs": [
    {
     "data": {
      "text/plain": [
       "<matplotlib.axes._subplots.AxesSubplot at 0x7f4d490614e0>"
      ]
     },
     "execution_count": 41,
     "metadata": {},
     "output_type": "execute_result"
    },
    {
     "data": {
      "image/png": "[encoded data removed]",
      "text/plain": [
       "<Figure size 432x288 with 1 Axes>"
      ]
     },
     "metadata": {},
     "output_type": "display_data"
    }
   ],
   "source": [
    "fund_data[\"pe_ratio\"][:1000].plot()\n",
    "fund_data[\"pe_ratio4\"][:1000].plot()"
   ]
  },
  {
   "cell_type": "code",
   "execution_count": 44,
   "metadata": {},
   "outputs": [
    {
     "name": "stderr",
     "output_type": "stream",
     "text": [
      "/opt/conda/envs/ricequant/lib/python3.5/site-packages/sklearn/utils/validation.py:429: DataConversionWarning: Data with input dtype object was converted to float64 by StandardScaler.\n",
      "  warnings.warn(msg, _DataConversionWarning)\n"
     ]
    }
   ],
   "source": [
    "# 2. 标准化\n",
    "# 2.1 借助standardscaler\n",
    "from sklearn.preprocessing import StandardScaler\n",
    "# 实例化一个转换器\n",
    "transfer = StandardScaler()\n",
    "# 调用fit_transform\n",
    "fund_data[\"pe_ratio5\"] = transfer.fit_transform(fund_data[\"pe_ratio3\"])"
   ]
  },
  {
   "cell_type": "code",
   "execution_count": 45,
   "metadata": {},
   "outputs": [
    {
     "data": {
      "text/html": [
       "<div>\n",
       "<style scoped>\n",
       "    .dataframe tbody tr th:only-of-type {\n",
       "        vertical-align: middle;\n",
       "    }\n",
       "\n",
       "    .dataframe tbody tr th {\n",
       "        vertical-align: top;\n",
       "    }\n",
       "\n",
       "    .dataframe thead th {\n",
       "        text-align: right;\n",
       "    }\n",
       "</style>\n",
       "<table border=\"1\" class=\"dataframe\">\n",
       "  <thead>\n",
       "    <tr style=\"text-align: right;\">\n",
       "      <th></th>\n",
       "      <th>pe_ratio</th>\n",
       "      <th>pe_ratio1</th>\n",
       "      <th>pe_ratio2</th>\n",
       "      <th>pe_ratio3</th>\n",
       "      <th>pe_ratio4</th>\n",
       "      <th>pe_ratio5</th>\n",
       "    </tr>\n",
       "  </thead>\n",
       "  <tbody>\n",
       "    <tr>\n",
       "      <th>601211.XSHG</th>\n",
       "      <td>16.9137</td>\n",
       "      <td>16.9137</td>\n",
       "      <td>16.9137</td>\n",
       "      <td>16.9137</td>\n",
       "      <td>16.9137</td>\n",
       "      <td>-0.801752</td>\n",
       "    </tr>\n",
       "    <tr>\n",
       "      <th>002705.XSHE</th>\n",
       "      <td>25.5779</td>\n",
       "      <td>25.5779</td>\n",
       "      <td>25.5779</td>\n",
       "      <td>25.5779</td>\n",
       "      <td>25.5779</td>\n",
       "      <td>-0.590114</td>\n",
       "    </tr>\n",
       "    <tr>\n",
       "      <th>300531.XSHE</th>\n",
       "      <td>92.4438</td>\n",
       "      <td>92.4438</td>\n",
       "      <td>92.4438</td>\n",
       "      <td>92.4438</td>\n",
       "      <td>92.4438</td>\n",
       "      <td>1.043199</td>\n",
       "    </tr>\n",
       "    <tr>\n",
       "      <th>300363.XSHE</th>\n",
       "      <td>52.8478</td>\n",
       "      <td>52.8478</td>\n",
       "      <td>52.8478</td>\n",
       "      <td>52.8478</td>\n",
       "      <td>52.8478</td>\n",
       "      <td>0.075999</td>\n",
       "    </tr>\n",
       "    <tr>\n",
       "      <th>600977.XSHG</th>\n",
       "      <td>30.1147</td>\n",
       "      <td>30.1147</td>\n",
       "      <td>30.1147</td>\n",
       "      <td>30.1147</td>\n",
       "      <td>30.1147</td>\n",
       "      <td>-0.479295</td>\n",
       "    </tr>\n",
       "  </tbody>\n",
       "</table>\n",
       "</div>"
      ],
      "text/plain": [
       "            pe_ratio pe_ratio1 pe_ratio2 pe_ratio3 pe_ratio4  pe_ratio5\n",
       "601211.XSHG  16.9137   16.9137   16.9137   16.9137   16.9137  -0.801752\n",
       "002705.XSHE  25.5779   25.5779   25.5779   25.5779   25.5779  -0.590114\n",
       "300531.XSHE  92.4438   92.4438   92.4438   92.4438   92.4438   1.043199\n",
       "300363.XSHE  52.8478   52.8478   52.8478   52.8478   52.8478   0.075999\n",
       "600977.XSHG  30.1147   30.1147   30.1147   30.1147   30.1147  -0.479295"
      ]
     },
     "execution_count": 45,
     "metadata": {},
     "output_type": "execute_result"
    }
   ],
   "source": [
    "fund_data.head()"
   ]
  },
  {
   "cell_type": "code",
   "execution_count": 47,
   "metadata": {},
   "outputs": [
    {
     "data": {
      "text/plain": [
       "<matplotlib.axes._subplots.AxesSubplot at 0x7f4d486e3b70>"
      ]
     },
     "execution_count": 47,
     "metadata": {},
     "output_type": "execute_result"
    },
    {
     "data": {
      "image/png": "[encoded data removed]",
      "text/plain": [
       "<Figure size 432x288 with 1 Axes>"
      ]
     },
     "metadata": {},
     "output_type": "display_data"
    }
   ],
   "source": [
    "fund_data[\"pe_ratio3\"][:1000].plot()\n",
    "fund_data[\"pe_ratio5\"][:1000].plot()"
   ]
  },
  {
   "cell_type": "code",
   "execution_count": 48,
   "metadata": {},
   "outputs": [],
   "source": [
    "# 2.2 自实现\n",
    "\n",
    "# 标准化\n",
    "def std_method(factor):\n",
    "    # 1.求解均值,标准差\n",
    "    mean = factor.mean()\n",
    "    std = factor.std()\n",
    "    \n",
    "    # 2.使用公式,求解标准化之后的值\n",
    "    ret = (factor - mean)/std\n",
    "    \n",
    "    return ret"
   ]
  },
  {
   "cell_type": "code",
   "execution_count": 49,
   "metadata": {},
   "outputs": [],
   "source": [
    "fund_data[\"pe_ratio6\"] = std_method(fund_data[\"pe_ratio3\"])"
   ]
  },
  {
   "cell_type": "code",
   "execution_count": 50,
   "metadata": {},
   "outputs": [
    {
     "data": {
      "text/html": [
       "<div>\n",
       "<style scoped>\n",
       "    .dataframe tbody tr th:only-of-type {\n",
       "        vertical-align: middle;\n",
       "    }\n",
       "\n",
       "    .dataframe tbody tr th {\n",
       "        vertical-align: top;\n",
       "    }\n",
       "\n",
       "    .dataframe thead th {\n",
       "        text-align: right;\n",
       "    }\n",
       "</style>\n",
       "<table border=\"1\" class=\"dataframe\">\n",
       "  <thead>\n",
       "    <tr style=\"text-align: right;\">\n",
       "      <th></th>\n",
       "      <th>pe_ratio</th>\n",
       "      <th>pe_ratio1</th>\n",
       "      <th>pe_ratio2</th>\n",
       "      <th>pe_ratio3</th>\n",
       "      <th>pe_ratio4</th>\n",
       "      <th>pe_ratio5</th>\n",
       "      <th>pe_ratio6</th>\n",
       "    </tr>\n",
       "  </thead>\n",
       "  <tbody>\n",
       "    <tr>\n",
       "      <th>601211.XSHG</th>\n",
       "      <td>16.9137</td>\n",
       "      <td>16.9137</td>\n",
       "      <td>16.9137</td>\n",
       "      <td>16.9137</td>\n",
       "      <td>16.9137</td>\n",
       "      <td>-0.801752</td>\n",
       "      <td>-0.801636</td>\n",
       "    </tr>\n",
       "    <tr>\n",
       "      <th>002705.XSHE</th>\n",
       "      <td>25.5779</td>\n",
       "      <td>25.5779</td>\n",
       "      <td>25.5779</td>\n",
       "      <td>25.5779</td>\n",
       "      <td>25.5779</td>\n",
       "      <td>-0.590114</td>\n",
       "      <td>-0.590029</td>\n",
       "    </tr>\n",
       "    <tr>\n",
       "      <th>300531.XSHE</th>\n",
       "      <td>92.4438</td>\n",
       "      <td>92.4438</td>\n",
       "      <td>92.4438</td>\n",
       "      <td>92.4438</td>\n",
       "      <td>92.4438</td>\n",
       "      <td>1.043199</td>\n",
       "      <td>1.04305</td>\n",
       "    </tr>\n",
       "    <tr>\n",
       "      <th>300363.XSHE</th>\n",
       "      <td>52.8478</td>\n",
       "      <td>52.8478</td>\n",
       "      <td>52.8478</td>\n",
       "      <td>52.8478</td>\n",
       "      <td>52.8478</td>\n",
       "      <td>0.075999</td>\n",
       "      <td>0.0759884</td>\n",
       "    </tr>\n",
       "    <tr>\n",
       "      <th>600977.XSHG</th>\n",
       "      <td>30.1147</td>\n",
       "      <td>30.1147</td>\n",
       "      <td>30.1147</td>\n",
       "      <td>30.1147</td>\n",
       "      <td>30.1147</td>\n",
       "      <td>-0.479295</td>\n",
       "      <td>-0.479226</td>\n",
       "    </tr>\n",
       "  </tbody>\n",
       "</table>\n",
       "</div>"
      ],
      "text/plain": [
       "            pe_ratio pe_ratio1 pe_ratio2 pe_ratio3 pe_ratio4  pe_ratio5  \\\n",
       "601211.XSHG  16.9137   16.9137   16.9137   16.9137   16.9137  -0.801752   \n",
       "002705.XSHE  25.5779   25.5779   25.5779   25.5779   25.5779  -0.590114   \n",
       "300531.XSHE  92.4438   92.4438   92.4438   92.4438   92.4438   1.043199   \n",
       "300363.XSHE  52.8478   52.8478   52.8478   52.8478   52.8478   0.075999   \n",
       "600977.XSHG  30.1147   30.1147   30.1147   30.1147   30.1147  -0.479295   \n",
       "\n",
       "             pe_ratio6  \n",
       "601211.XSHG  -0.801636  \n",
       "002705.XSHE  -0.590029  \n",
       "300531.XSHE    1.04305  \n",
       "300363.XSHE  0.0759884  \n",
       "600977.XSHG  -0.479226  "
      ]
     },
     "execution_count": 50,
     "metadata": {},
     "output_type": "execute_result"
    }
   ],
   "source": [
    "fund_data.head()"
   ]
  },
  {
   "cell_type": "code",
   "execution_count": 51,
   "metadata": {},
   "outputs": [
    {
     "data": {
      "text/plain": [
       "<matplotlib.axes._subplots.AxesSubplot at 0x7f4d48684278>"
      ]
     },
     "execution_count": 51,
     "metadata": {},
     "output_type": "execute_result"
    },
    {
     "data": {
      "image/png": "[encoded data removed]",
      "text/plain": [
       "<Figure size 432x288 with 1 Axes>"
      ]
     },
     "metadata": {},
     "output_type": "display_data"
    }
   ],
   "source": [
    "fund_data[\"pe_ratio3\"][:1000].plot()\n",
    "fund_data[\"pe_ratio6\"][:1000].plot()"
   ]
  },
  {
   "cell_type": "code",
   "execution_count": 52,
   "metadata": {},
   "outputs": [],
   "source": [
    "# 3.市值中性化\n",
    "# 获取两个因子数据\n",
    "# 对目标值因子-市净率进行去极值、标准化处理\n",
    "# 建立市值与市净率回归方程\n",
    "#     1.确定自变量,因变量的值\n",
    "#     2.建立回归方程\n",
    "# 通过回归系数，预测新的因子结果y_predict\n",
    "# 求出市净率与y_predict的偏差即为新的因子值"
   ]
  },
  {
   "cell_type": "code",
   "execution_count": 55,
   "metadata": {},
   "outputs": [],
   "source": [
    "# a.获取数据\n",
    "q = query(fundamentals.eod_derivative_indicator.pb_ratio, fundamentals.eod_derivative_indicator.market_cap)\n",
    "fund_data = get_fundamentals(q, entry_date=\"20180103\")[:,\"20180103\", :]"
   ]
  },
  {
   "cell_type": "code",
   "execution_count": 57,
   "metadata": {},
   "outputs": [
    {
     "data": {
      "text/html": [
       "<div>\n",
       "<style scoped>\n",
       "    .dataframe tbody tr th:only-of-type {\n",
       "        vertical-align: middle;\n",
       "    }\n",
       "\n",
       "    .dataframe tbody tr th {\n",
       "        vertical-align: top;\n",
       "    }\n",
       "\n",
       "    .dataframe thead th {\n",
       "        text-align: right;\n",
       "    }\n",
       "</style>\n",
       "<table border=\"1\" class=\"dataframe\">\n",
       "  <thead>\n",
       "    <tr style=\"text-align: right;\">\n",
       "      <th></th>\n",
       "      <th>pb_ratio</th>\n",
       "      <th>market_cap</th>\n",
       "    </tr>\n",
       "  </thead>\n",
       "  <tbody>\n",
       "    <tr>\n",
       "      <th>601211.XSHG</th>\n",
       "      <td>1.3574</td>\n",
       "      <td>1.67133e+11</td>\n",
       "    </tr>\n",
       "    <tr>\n",
       "      <th>002705.XSHE</th>\n",
       "      <td>2.7977</td>\n",
       "      <td>1.04364e+10</td>\n",
       "    </tr>\n",
       "    <tr>\n",
       "      <th>300531.XSHE</th>\n",
       "      <td>7.5293</td>\n",
       "      <td>4.494e+09</td>\n",
       "    </tr>\n",
       "    <tr>\n",
       "      <th>300363.XSHE</th>\n",
       "      <td>4.1282</td>\n",
       "      <td>5.67849e+09</td>\n",
       "    </tr>\n",
       "    <tr>\n",
       "      <th>600977.XSHG</th>\n",
       "      <td>2.8124</td>\n",
       "      <td>2.90692e+10</td>\n",
       "    </tr>\n",
       "  </tbody>\n",
       "</table>\n",
       "</div>"
      ],
      "text/plain": [
       "            pb_ratio   market_cap\n",
       "601211.XSHG   1.3574  1.67133e+11\n",
       "002705.XSHE   2.7977  1.04364e+10\n",
       "300531.XSHE   7.5293    4.494e+09\n",
       "300363.XSHE   4.1282  5.67849e+09\n",
       "600977.XSHG   2.8124  2.90692e+10"
      ]
     },
     "execution_count": 57,
     "metadata": {},
     "output_type": "execute_result"
    }
   ],
   "source": [
    "fund_data.head()"
   ]
  },
  {
   "cell_type": "code",
   "execution_count": 105,
   "metadata": {},
   "outputs": [],
   "source": [
    "# b, 对目标值因子-市净率进行去极值、标准化处理\n",
    "# 去极值\n",
    "fund_data[\"pb_ratio1\"] = mad_method(fund_data[\"pb_ratio\"])\n",
    "# 标准化\n",
    "fund_data[\"pb_ratio1\"] = std_method(fund_data[\"pb_ratio1\"])"
   ]
  },
  {
   "cell_type": "code",
   "execution_count": 106,
   "metadata": {},
   "outputs": [
    {
     "data": {
      "text/html": [
       "<div>\n",
       "<style scoped>\n",
       "    .dataframe tbody tr th:only-of-type {\n",
       "        vertical-align: middle;\n",
       "    }\n",
       "\n",
       "    .dataframe tbody tr th {\n",
       "        vertical-align: top;\n",
       "    }\n",
       "\n",
       "    .dataframe thead th {\n",
       "        text-align: right;\n",
       "    }\n",
       "</style>\n",
       "<table border=\"1\" class=\"dataframe\">\n",
       "  <thead>\n",
       "    <tr style=\"text-align: right;\">\n",
       "      <th></th>\n",
       "      <th>pb_ratio</th>\n",
       "      <th>market_cap</th>\n",
       "      <th>pb_ratio1</th>\n",
       "    </tr>\n",
       "  </thead>\n",
       "  <tbody>\n",
       "    <tr>\n",
       "      <th>601211.XSHG</th>\n",
       "      <td>1.3574</td>\n",
       "      <td>1.67133e+11</td>\n",
       "      <td>-1.12275</td>\n",
       "    </tr>\n",
       "    <tr>\n",
       "      <th>002705.XSHE</th>\n",
       "      <td>2.7977</td>\n",
       "      <td>1.04364e+10</td>\n",
       "      <td>-0.453167</td>\n",
       "    </tr>\n",
       "    <tr>\n",
       "      <th>300531.XSHE</th>\n",
       "      <td>7.5293</td>\n",
       "      <td>4.494e+09</td>\n",
       "      <td>1.74652</td>\n",
       "    </tr>\n",
       "    <tr>\n",
       "      <th>300363.XSHE</th>\n",
       "      <td>4.1282</td>\n",
       "      <td>5.67849e+09</td>\n",
       "      <td>0.165374</td>\n",
       "    </tr>\n",
       "    <tr>\n",
       "      <th>600977.XSHG</th>\n",
       "      <td>2.8124</td>\n",
       "      <td>2.90692e+10</td>\n",
       "      <td>-0.446333</td>\n",
       "    </tr>\n",
       "  </tbody>\n",
       "</table>\n",
       "</div>"
      ],
      "text/plain": [
       "            pb_ratio   market_cap pb_ratio1\n",
       "601211.XSHG   1.3574  1.67133e+11  -1.12275\n",
       "002705.XSHE   2.7977  1.04364e+10 -0.453167\n",
       "300531.XSHE   7.5293    4.494e+09   1.74652\n",
       "300363.XSHE   4.1282  5.67849e+09  0.165374\n",
       "600977.XSHG   2.8124  2.90692e+10 -0.446333"
      ]
     },
     "execution_count": 106,
     "metadata": {},
     "output_type": "execute_result"
    }
   ],
   "source": [
    "fund_data.head()"
   ]
  },
  {
   "cell_type": "code",
   "execution_count": 107,
   "metadata": {},
   "outputs": [],
   "source": [
    "# c. 建立市值与市净率回归方程\n",
    "#     c.1.确定自变量,因变量的值\n",
    "x = fund_data[\"market_cap\"].values.reshape(-1, 1)"
   ]
  },
  {
   "cell_type": "code",
   "execution_count": 108,
   "metadata": {},
   "outputs": [
    {
     "data": {
      "text/plain": [
       "array([[167133250284.0],\n",
       "       [10436406563.0],\n",
       "       [4494000000.0],\n",
       "       ...,\n",
       "       [10099392000.0],\n",
       "       [11099376358.0],\n",
       "       [7764400028.0]], dtype=object)"
      ]
     },
     "execution_count": 108,
     "metadata": {},
     "output_type": "execute_result"
    }
   ],
   "source": [
    "x"
   ]
  },
  {
   "cell_type": "code",
   "execution_count": 109,
   "metadata": {},
   "outputs": [
    {
     "data": {
      "text/plain": [
       "(3469, 1)"
      ]
     },
     "execution_count": 109,
     "metadata": {},
     "output_type": "execute_result"
    }
   ],
   "source": [
    "x.shape"
   ]
  },
  {
   "cell_type": "code",
   "execution_count": 110,
   "metadata": {},
   "outputs": [
    {
     "data": {
      "text/plain": [
       "numpy.ndarray"
      ]
     },
     "execution_count": 110,
     "metadata": {},
     "output_type": "execute_result"
    }
   ],
   "source": [
    "type(x)"
   ]
  },
  {
   "cell_type": "code",
   "execution_count": 111,
   "metadata": {},
   "outputs": [],
   "source": [
    "y = fund_data[\"pb_ratio1\"]"
   ]
  },
  {
   "cell_type": "code",
   "execution_count": 112,
   "metadata": {},
   "outputs": [
    {
     "data": {
      "text/plain": [
       "(3469,)"
      ]
     },
     "execution_count": 112,
     "metadata": {},
     "output_type": "execute_result"
    }
   ],
   "source": [
    "y.shape"
   ]
  },
  {
   "cell_type": "code",
   "execution_count": null,
   "metadata": {},
   "outputs": [],
   "source": []
  },
  {
   "cell_type": "code",
   "execution_count": 113,
   "metadata": {},
   "outputs": [
    {
     "data": {
      "text/plain": [
       "LinearRegression(copy_X=True, fit_intercept=True, n_jobs=1, normalize=False)"
      ]
     },
     "execution_count": 113,
     "metadata": {},
     "output_type": "execute_result"
    }
   ],
   "source": [
    "# c.2.建立回归方程\n",
    "from sklearn.linear_model import LinearRegression\n",
    "# 实例化\n",
    "estimator = LinearRegression()\n",
    "# 进行训练\n",
    "estimator.fit(x, y)"
   ]
  },
  {
   "cell_type": "code",
   "execution_count": 114,
   "metadata": {},
   "outputs": [],
   "source": [
    "# d.通过回归系数，预测新的因子结果y_predict\n",
    "y_predict = estimator.predict(x)"
   ]
  },
  {
   "cell_type": "code",
   "execution_count": 115,
   "metadata": {},
   "outputs": [],
   "source": [
    "# e.求出市净率与y_predict的偏差即为新的因子值\n",
    "fund_data[\"pb_ratio1\"] = y - y_predict"
   ]
  },
  {
   "cell_type": "code",
   "execution_count": 116,
   "metadata": {},
   "outputs": [
    {
     "data": {
      "text/html": [
       "<div>\n",
       "<style scoped>\n",
       "    .dataframe tbody tr th:only-of-type {\n",
       "        vertical-align: middle;\n",
       "    }\n",
       "\n",
       "    .dataframe tbody tr th {\n",
       "        vertical-align: top;\n",
       "    }\n",
       "\n",
       "    .dataframe thead th {\n",
       "        text-align: right;\n",
       "    }\n",
       "</style>\n",
       "<table border=\"1\" class=\"dataframe\">\n",
       "  <thead>\n",
       "    <tr style=\"text-align: right;\">\n",
       "      <th></th>\n",
       "      <th>pb_ratio</th>\n",
       "      <th>market_cap</th>\n",
       "      <th>pb_ratio1</th>\n",
       "    </tr>\n",
       "  </thead>\n",
       "  <tbody>\n",
       "    <tr>\n",
       "      <th>601211.XSHG</th>\n",
       "      <td>1.3574</td>\n",
       "      <td>1.67133e+11</td>\n",
       "      <td>-0.99676</td>\n",
       "    </tr>\n",
       "    <tr>\n",
       "      <th>002705.XSHE</th>\n",
       "      <td>2.7977</td>\n",
       "      <td>1.04364e+10</td>\n",
       "      <td>-0.460033</td>\n",
       "    </tr>\n",
       "    <tr>\n",
       "      <th>300531.XSHE</th>\n",
       "      <td>7.5293</td>\n",
       "      <td>4.494e+09</td>\n",
       "      <td>1.73462</td>\n",
       "    </tr>\n",
       "    <tr>\n",
       "      <th>300363.XSHE</th>\n",
       "      <td>4.1282</td>\n",
       "      <td>5.67849e+09</td>\n",
       "      <td>0.154473</td>\n",
       "    </tr>\n",
       "    <tr>\n",
       "      <th>600977.XSHG</th>\n",
       "      <td>2.8124</td>\n",
       "      <td>2.90692e+10</td>\n",
       "      <td>-0.437401</td>\n",
       "    </tr>\n",
       "  </tbody>\n",
       "</table>\n",
       "</div>"
      ],
      "text/plain": [
       "            pb_ratio   market_cap pb_ratio1\n",
       "601211.XSHG   1.3574  1.67133e+11  -0.99676\n",
       "002705.XSHE   2.7977  1.04364e+10 -0.460033\n",
       "300531.XSHE   7.5293    4.494e+09   1.73462\n",
       "300363.XSHE   4.1282  5.67849e+09  0.154473\n",
       "600977.XSHG   2.8124  2.90692e+10 -0.437401"
      ]
     },
     "execution_count": 116,
     "metadata": {},
     "output_type": "execute_result"
    }
   ],
   "source": [
    "fund_data.head()"
   ]
  },
  {
   "cell_type": "code",
   "execution_count": null,
   "metadata": {},
   "outputs": [],
   "source": []
  }
 ],
 "metadata": {
  "kernelspec": {
   "display_name": "Python 3",
   "language": "python",
   "name": "python3"
  },
  "language_info": {
   "codemirror_mode": {
    "name": "ipython",
    "version": 3
   },
   "file_extension": ".py",
   "mimetype": "text/x-python",
   "name": "python",
   "nbconvert_exporter": "python",
   "pygments_lexer": "ipython3",
   "version": "3.6.3"
  }
 },
 "nbformat": 4,
 "nbformat_minor": 2
}
