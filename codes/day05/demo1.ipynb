{
 "cells": [
  {
   "cell_type": "markdown",
   "metadata": {},
   "source": [
    "# 获取历史数据"
   ]
  },
  {
   "cell_type": "code",
   "execution_count": 2,
   "metadata": {},
   "outputs": [
    {
     "data": {
      "text/html": [
       "<div>\n",
       "<style scoped>\n",
       "    .dataframe tbody tr th:only-of-type {\n",
       "        vertical-align: middle;\n",
       "    }\n",
       "\n",
       "    .dataframe tbody tr th {\n",
       "        vertical-align: top;\n",
       "    }\n",
       "\n",
       "    .dataframe thead th {\n",
       "        text-align: right;\n",
       "    }\n",
       "</style>\n",
       "<table border=\"1\" class=\"dataframe\">\n",
       "  <thead>\n",
       "    <tr style=\"text-align: right;\">\n",
       "      <th></th>\n",
       "      <th>close</th>\n",
       "      <th>high</th>\n",
       "      <th>limit_down</th>\n",
       "      <th>limit_up</th>\n",
       "      <th>low</th>\n",
       "      <th>open</th>\n",
       "      <th>total_turnover</th>\n",
       "      <th>volume</th>\n",
       "    </tr>\n",
       "    <tr>\n",
       "      <th>date</th>\n",
       "      <th></th>\n",
       "      <th></th>\n",
       "      <th></th>\n",
       "      <th></th>\n",
       "      <th></th>\n",
       "      <th></th>\n",
       "      <th></th>\n",
       "      <th></th>\n",
       "    </tr>\n",
       "  </thead>\n",
       "  <tbody>\n",
       "    <tr>\n",
       "      <th>2018-01-02</th>\n",
       "      <td>13.4877</td>\n",
       "      <td>13.7142</td>\n",
       "      <td>11.7846</td>\n",
       "      <td>14.4033</td>\n",
       "      <td>13.1136</td>\n",
       "      <td>13.1432</td>\n",
       "      <td>2.856544e+09</td>\n",
       "      <td>208159255.0</td>\n",
       "    </tr>\n",
       "    <tr>\n",
       "      <th>2018-01-03</th>\n",
       "      <td>13.1235</td>\n",
       "      <td>13.6453</td>\n",
       "      <td>12.1390</td>\n",
       "      <td>14.8365</td>\n",
       "      <td>12.9955</td>\n",
       "      <td>13.5173</td>\n",
       "      <td>4.006221e+09</td>\n",
       "      <td>296249838.0</td>\n",
       "    </tr>\n",
       "    <tr>\n",
       "      <th>2018-01-04</th>\n",
       "      <td>13.0447</td>\n",
       "      <td>13.1629</td>\n",
       "      <td>11.8141</td>\n",
       "      <td>14.4329</td>\n",
       "      <td>12.9266</td>\n",
       "      <td>13.1136</td>\n",
       "      <td>2.454544e+09</td>\n",
       "      <td>185450948.0</td>\n",
       "    </tr>\n",
       "    <tr>\n",
       "      <th>2018-01-05</th>\n",
       "      <td>13.0939</td>\n",
       "      <td>13.1432</td>\n",
       "      <td>11.7452</td>\n",
       "      <td>14.3541</td>\n",
       "      <td>12.9463</td>\n",
       "      <td>13.0053</td>\n",
       "      <td>1.603290e+09</td>\n",
       "      <td>121031272.0</td>\n",
       "    </tr>\n",
       "    <tr>\n",
       "      <th>2018-01-08</th>\n",
       "      <td>12.7592</td>\n",
       "      <td>13.0841</td>\n",
       "      <td>11.7846</td>\n",
       "      <td>14.4033</td>\n",
       "      <td>12.6608</td>\n",
       "      <td>13.0447</td>\n",
       "      <td>2.806099e+09</td>\n",
       "      <td>215862081.0</td>\n",
       "    </tr>\n",
       "  </tbody>\n",
       "</table>\n",
       "</div>"
      ],
      "text/plain": [
       "              close     high  limit_down  limit_up      low     open  \\\n",
       "date                                                                   \n",
       "2018-01-02  13.4877  13.7142     11.7846   14.4033  13.1136  13.1432   \n",
       "2018-01-03  13.1235  13.6453     12.1390   14.8365  12.9955  13.5173   \n",
       "2018-01-04  13.0447  13.1629     11.8141   14.4329  12.9266  13.1136   \n",
       "2018-01-05  13.0939  13.1432     11.7452   14.3541  12.9463  13.0053   \n",
       "2018-01-08  12.7592  13.0841     11.7846   14.4033  12.6608  13.0447   \n",
       "\n",
       "            total_turnover       volume  \n",
       "date                                     \n",
       "2018-01-02    2.856544e+09  208159255.0  \n",
       "2018-01-03    4.006221e+09  296249838.0  \n",
       "2018-01-04    2.454544e+09  185450948.0  \n",
       "2018-01-05    1.603290e+09  121031272.0  \n",
       "2018-01-08    2.806099e+09  215862081.0  "
      ]
     },
     "execution_count": 2,
     "metadata": {},
     "output_type": "execute_result"
    }
   ],
   "source": [
    "get_price(\"000001.XSHE\", start_date='20180101', end_date='20181001', frequency='1d').head()"
   ]
  },
  {
   "cell_type": "markdown",
   "metadata": {},
   "source": [
    "- 获取交易日列表"
   ]
  },
  {
   "cell_type": "code",
   "execution_count": 5,
   "metadata": {},
   "outputs": [
    {
     "data": {
      "text/plain": [
       "[datetime.date(2018, 1, 2),\n",
       " datetime.date(2018, 1, 3),\n",
       " datetime.date(2018, 1, 4),\n",
       " datetime.date(2018, 1, 5),\n",
       " datetime.date(2018, 1, 8),\n",
       " datetime.date(2018, 1, 9),\n",
       " datetime.date(2018, 1, 10),\n",
       " datetime.date(2018, 1, 11),\n",
       " datetime.date(2018, 1, 12),\n",
       " datetime.date(2018, 1, 15),\n",
       " datetime.date(2018, 1, 16),\n",
       " datetime.date(2018, 1, 17),\n",
       " datetime.date(2018, 1, 18),\n",
       " datetime.date(2018, 1, 19),\n",
       " datetime.date(2018, 1, 22),\n",
       " datetime.date(2018, 1, 23),\n",
       " datetime.date(2018, 1, 24),\n",
       " datetime.date(2018, 1, 25),\n",
       " datetime.date(2018, 1, 26),\n",
       " datetime.date(2018, 1, 29),\n",
       " datetime.date(2018, 1, 30),\n",
       " datetime.date(2018, 1, 31),\n",
       " datetime.date(2018, 2, 1),\n",
       " datetime.date(2018, 2, 2),\n",
       " datetime.date(2018, 2, 5),\n",
       " datetime.date(2018, 2, 6),\n",
       " datetime.date(2018, 2, 7),\n",
       " datetime.date(2018, 2, 8),\n",
       " datetime.date(2018, 2, 9),\n",
       " datetime.date(2018, 2, 12),\n",
       " datetime.date(2018, 2, 13),\n",
       " datetime.date(2018, 2, 14),\n",
       " datetime.date(2018, 2, 22),\n",
       " datetime.date(2018, 2, 23),\n",
       " datetime.date(2018, 2, 26),\n",
       " datetime.date(2018, 2, 27),\n",
       " datetime.date(2018, 2, 28),\n",
       " datetime.date(2018, 3, 1),\n",
       " datetime.date(2018, 3, 2),\n",
       " datetime.date(2018, 3, 5),\n",
       " datetime.date(2018, 3, 6),\n",
       " datetime.date(2018, 3, 7),\n",
       " datetime.date(2018, 3, 8),\n",
       " datetime.date(2018, 3, 9),\n",
       " datetime.date(2018, 3, 12),\n",
       " datetime.date(2018, 3, 13),\n",
       " datetime.date(2018, 3, 14),\n",
       " datetime.date(2018, 3, 15),\n",
       " datetime.date(2018, 3, 16),\n",
       " datetime.date(2018, 3, 19),\n",
       " datetime.date(2018, 3, 20),\n",
       " datetime.date(2018, 3, 21),\n",
       " datetime.date(2018, 3, 22),\n",
       " datetime.date(2018, 3, 23),\n",
       " datetime.date(2018, 3, 26),\n",
       " datetime.date(2018, 3, 27),\n",
       " datetime.date(2018, 3, 28),\n",
       " datetime.date(2018, 3, 29),\n",
       " datetime.date(2018, 3, 30),\n",
       " datetime.date(2018, 4, 2),\n",
       " datetime.date(2018, 4, 3),\n",
       " datetime.date(2018, 4, 4),\n",
       " datetime.date(2018, 4, 9),\n",
       " datetime.date(2018, 4, 10),\n",
       " datetime.date(2018, 4, 11),\n",
       " datetime.date(2018, 4, 12),\n",
       " datetime.date(2018, 4, 13),\n",
       " datetime.date(2018, 4, 16),\n",
       " datetime.date(2018, 4, 17),\n",
       " datetime.date(2018, 4, 18),\n",
       " datetime.date(2018, 4, 19),\n",
       " datetime.date(2018, 4, 20),\n",
       " datetime.date(2018, 4, 23),\n",
       " datetime.date(2018, 4, 24),\n",
       " datetime.date(2018, 4, 25),\n",
       " datetime.date(2018, 4, 26),\n",
       " datetime.date(2018, 4, 27),\n",
       " datetime.date(2018, 5, 2),\n",
       " datetime.date(2018, 5, 3),\n",
       " datetime.date(2018, 5, 4),\n",
       " datetime.date(2018, 5, 7),\n",
       " datetime.date(2018, 5, 8),\n",
       " datetime.date(2018, 5, 9),\n",
       " datetime.date(2018, 5, 10),\n",
       " datetime.date(2018, 5, 11),\n",
       " datetime.date(2018, 5, 14),\n",
       " datetime.date(2018, 5, 15),\n",
       " datetime.date(2018, 5, 16),\n",
       " datetime.date(2018, 5, 17),\n",
       " datetime.date(2018, 5, 18),\n",
       " datetime.date(2018, 5, 21),\n",
       " datetime.date(2018, 5, 22),\n",
       " datetime.date(2018, 5, 23),\n",
       " datetime.date(2018, 5, 24),\n",
       " datetime.date(2018, 5, 25),\n",
       " datetime.date(2018, 5, 28),\n",
       " datetime.date(2018, 5, 29),\n",
       " datetime.date(2018, 5, 30),\n",
       " datetime.date(2018, 5, 31),\n",
       " datetime.date(2018, 6, 1),\n",
       " datetime.date(2018, 6, 4),\n",
       " datetime.date(2018, 6, 5),\n",
       " datetime.date(2018, 6, 6),\n",
       " datetime.date(2018, 6, 7),\n",
       " datetime.date(2018, 6, 8),\n",
       " datetime.date(2018, 6, 11),\n",
       " datetime.date(2018, 6, 12),\n",
       " datetime.date(2018, 6, 13),\n",
       " datetime.date(2018, 6, 14),\n",
       " datetime.date(2018, 6, 15),\n",
       " datetime.date(2018, 6, 19),\n",
       " datetime.date(2018, 6, 20),\n",
       " datetime.date(2018, 6, 21),\n",
       " datetime.date(2018, 6, 22),\n",
       " datetime.date(2018, 6, 25),\n",
       " datetime.date(2018, 6, 26),\n",
       " datetime.date(2018, 6, 27),\n",
       " datetime.date(2018, 6, 28),\n",
       " datetime.date(2018, 6, 29),\n",
       " datetime.date(2018, 7, 2),\n",
       " datetime.date(2018, 7, 3),\n",
       " datetime.date(2018, 7, 4),\n",
       " datetime.date(2018, 7, 5),\n",
       " datetime.date(2018, 7, 6),\n",
       " datetime.date(2018, 7, 9),\n",
       " datetime.date(2018, 7, 10),\n",
       " datetime.date(2018, 7, 11),\n",
       " datetime.date(2018, 7, 12),\n",
       " datetime.date(2018, 7, 13),\n",
       " datetime.date(2018, 7, 16),\n",
       " datetime.date(2018, 7, 17),\n",
       " datetime.date(2018, 7, 18),\n",
       " datetime.date(2018, 7, 19),\n",
       " datetime.date(2018, 7, 20),\n",
       " datetime.date(2018, 7, 23),\n",
       " datetime.date(2018, 7, 24),\n",
       " datetime.date(2018, 7, 25),\n",
       " datetime.date(2018, 7, 26),\n",
       " datetime.date(2018, 7, 27),\n",
       " datetime.date(2018, 7, 30),\n",
       " datetime.date(2018, 7, 31),\n",
       " datetime.date(2018, 8, 1),\n",
       " datetime.date(2018, 8, 2),\n",
       " datetime.date(2018, 8, 3),\n",
       " datetime.date(2018, 8, 6),\n",
       " datetime.date(2018, 8, 7),\n",
       " datetime.date(2018, 8, 8),\n",
       " datetime.date(2018, 8, 9),\n",
       " datetime.date(2018, 8, 10),\n",
       " datetime.date(2018, 8, 13),\n",
       " datetime.date(2018, 8, 14),\n",
       " datetime.date(2018, 8, 15),\n",
       " datetime.date(2018, 8, 16),\n",
       " datetime.date(2018, 8, 17),\n",
       " datetime.date(2018, 8, 20),\n",
       " datetime.date(2018, 8, 21),\n",
       " datetime.date(2018, 8, 22),\n",
       " datetime.date(2018, 8, 23),\n",
       " datetime.date(2018, 8, 24),\n",
       " datetime.date(2018, 8, 27),\n",
       " datetime.date(2018, 8, 28),\n",
       " datetime.date(2018, 8, 29),\n",
       " datetime.date(2018, 8, 30),\n",
       " datetime.date(2018, 8, 31),\n",
       " datetime.date(2018, 9, 3),\n",
       " datetime.date(2018, 9, 4),\n",
       " datetime.date(2018, 9, 5),\n",
       " datetime.date(2018, 9, 6),\n",
       " datetime.date(2018, 9, 7),\n",
       " datetime.date(2018, 9, 10),\n",
       " datetime.date(2018, 9, 11),\n",
       " datetime.date(2018, 9, 12),\n",
       " datetime.date(2018, 9, 13),\n",
       " datetime.date(2018, 9, 14),\n",
       " datetime.date(2018, 9, 17),\n",
       " datetime.date(2018, 9, 18),\n",
       " datetime.date(2018, 9, 19),\n",
       " datetime.date(2018, 9, 20),\n",
       " datetime.date(2018, 9, 21),\n",
       " datetime.date(2018, 9, 25),\n",
       " datetime.date(2018, 9, 26),\n",
       " datetime.date(2018, 9, 27),\n",
       " datetime.date(2018, 9, 28)]"
      ]
     },
     "execution_count": 5,
     "metadata": {},
     "output_type": "execute_result"
    }
   ],
   "source": [
    "get_trading_dates(start_date='20180101', end_date='20181001')"
   ]
  },
  {
   "cell_type": "markdown",
   "metadata": {},
   "source": [
    "- 查询财务数据"
   ]
  },
  {
   "cell_type": "code",
   "execution_count": 21,
   "metadata": {},
   "outputs": [],
   "source": [
    "q = query(fundamentals.eod_derivative_indicator.market_cap)\n",
    "data = get_fundamentals(q, entry_date='20180102', interval='1d')"
   ]
  },
  {
   "cell_type": "code",
   "execution_count": 22,
   "metadata": {},
   "outputs": [
    {
     "data": {
      "text/plain": [
       "(1, 1, 3468)"
      ]
     },
     "execution_count": 22,
     "metadata": {},
     "output_type": "execute_result"
    }
   ],
   "source": [
    "data.shape"
   ]
  },
  {
   "cell_type": "code",
   "execution_count": 23,
   "metadata": {},
   "outputs": [
    {
     "data": {
      "text/plain": [
       "<class 'pandas.core.panel.Panel'>\n",
       "Dimensions: 1 (items) x 1 (major_axis) x 3468 (minor_axis)\n",
       "Items axis: market_cap to market_cap\n",
       "Major_axis axis: 2018-01-02 00:00:00 to 2018-01-02 00:00:00\n",
       "Minor_axis axis: 002893.XSHE to 600054.XSHG"
      ]
     },
     "execution_count": 23,
     "metadata": {},
     "output_type": "execute_result"
    }
   ],
   "source": [
    "data"
   ]
  },
  {
   "cell_type": "code",
   "execution_count": 25,
   "metadata": {},
   "outputs": [
    {
     "data": {
      "text/html": [
       "<div>\n",
       "<style scoped>\n",
       "    .dataframe tbody tr th:only-of-type {\n",
       "        vertical-align: middle;\n",
       "    }\n",
       "\n",
       "    .dataframe tbody tr th {\n",
       "        vertical-align: top;\n",
       "    }\n",
       "\n",
       "    .dataframe thead th {\n",
       "        text-align: right;\n",
       "    }\n",
       "</style>\n",
       "<table border=\"1\" class=\"dataframe\">\n",
       "  <thead>\n",
       "    <tr style=\"text-align: right;\">\n",
       "      <th></th>\n",
       "      <th>market_cap</th>\n",
       "    </tr>\n",
       "  </thead>\n",
       "  <tbody>\n",
       "    <tr>\n",
       "      <th>002893.XSHE</th>\n",
       "      <td>3.3468e+09</td>\n",
       "    </tr>\n",
       "    <tr>\n",
       "      <th>600977.XSHG</th>\n",
       "      <td>2.91065e+10</td>\n",
       "    </tr>\n",
       "    <tr>\n",
       "      <th>002074.XSHE</th>\n",
       "      <td>2.51086e+10</td>\n",
       "    </tr>\n",
       "    <tr>\n",
       "      <th>002184.XSHE</th>\n",
       "      <td>2.95751e+09</td>\n",
       "    </tr>\n",
       "    <tr>\n",
       "      <th>603042.XSHG</th>\n",
       "      <td>4.07135e+09</td>\n",
       "    </tr>\n",
       "  </tbody>\n",
       "</table>\n",
       "</div>"
      ],
      "text/plain": [
       "              market_cap\n",
       "002893.XSHE   3.3468e+09\n",
       "600977.XSHG  2.91065e+10\n",
       "002074.XSHE  2.51086e+10\n",
       "002184.XSHE  2.95751e+09\n",
       "603042.XSHG  4.07135e+09"
      ]
     },
     "execution_count": 25,
     "metadata": {},
     "output_type": "execute_result"
    }
   ],
   "source": [
    "data[:,'20180102', :].head()"
   ]
  },
  {
   "cell_type": "code",
   "execution_count": 60,
   "metadata": {},
   "outputs": [],
   "source": [
    "fector = get_fundamentals(query(fundamentals.eod_derivative_indicator.pe_ratio), entry_date='20180103')[:,\"20180103\", :]"
   ]
  },
  {
   "cell_type": "code",
   "execution_count": 62,
   "metadata": {},
   "outputs": [
    {
     "data": {
      "text/html": [
       "<div>\n",
       "<style scoped>\n",
       "    .dataframe tbody tr th:only-of-type {\n",
       "        vertical-align: middle;\n",
       "    }\n",
       "\n",
       "    .dataframe tbody tr th {\n",
       "        vertical-align: top;\n",
       "    }\n",
       "\n",
       "    .dataframe thead th {\n",
       "        text-align: right;\n",
       "    }\n",
       "</style>\n",
       "<table border=\"1\" class=\"dataframe\">\n",
       "  <thead>\n",
       "    <tr style=\"text-align: right;\">\n",
       "      <th></th>\n",
       "      <th>pe_ratio</th>\n",
       "    </tr>\n",
       "  </thead>\n",
       "  <tbody>\n",
       "    <tr>\n",
       "      <th>601211.XSHG</th>\n",
       "      <td>16.9137</td>\n",
       "    </tr>\n",
       "    <tr>\n",
       "      <th>002705.XSHE</th>\n",
       "      <td>25.5779</td>\n",
       "    </tr>\n",
       "    <tr>\n",
       "      <th>300531.XSHE</th>\n",
       "      <td>92.4438</td>\n",
       "    </tr>\n",
       "    <tr>\n",
       "      <th>300363.XSHE</th>\n",
       "      <td>52.8478</td>\n",
       "    </tr>\n",
       "    <tr>\n",
       "      <th>600977.XSHG</th>\n",
       "      <td>30.1147</td>\n",
       "    </tr>\n",
       "  </tbody>\n",
       "</table>\n",
       "</div>"
      ],
      "text/plain": [
       "            pe_ratio\n",
       "601211.XSHG  16.9137\n",
       "002705.XSHE  25.5779\n",
       "300531.XSHE  92.4438\n",
       "300363.XSHE  52.8478\n",
       "600977.XSHG  30.1147"
      ]
     },
     "execution_count": 62,
     "metadata": {},
     "output_type": "execute_result"
    }
   ],
   "source": [
    "fector.head()"
   ]
  },
  {
   "cell_type": "code",
   "execution_count": 64,
   "metadata": {},
   "outputs": [
    {
     "data": {
      "text/plain": [
       "<matplotlib.axes._subplots.AxesSubplot at 0x7fcb584930f0>"
      ]
     },
     "execution_count": 64,
     "metadata": {},
     "output_type": "execute_result"
    },
    {
     "data": {
      "image/png": "[encoded data removed]",
      "text/plain": [
       "<Figure size 432x288 with 1 Axes>"
      ]
     },
     "metadata": {},
     "output_type": "display_data"
    }
   ],
   "source": [
    "fector['pe_ratio'].plot()"
   ]
  },
  {
   "cell_type": "code",
   "execution_count": 65,
   "metadata": {},
   "outputs": [],
   "source": [
    "from scipy.stats.mstats import winsorize"
   ]
  },
  {
   "cell_type": "code",
   "execution_count": 66,
   "metadata": {},
   "outputs": [],
   "source": [
    "fector['pe_ratio1'] = winsorize(fector['pe_ratio'], limits=0.025)"
   ]
  },
  {
   "cell_type": "code",
   "execution_count": 67,
   "metadata": {},
   "outputs": [
    {
     "data": {
      "text/plain": [
       "<matplotlib.axes._subplots.AxesSubplot at 0x7fcb58306588>"
      ]
     },
     "execution_count": 67,
     "metadata": {},
     "output_type": "execute_result"
    },
    {
     "data": {
      "image/png": "[encoded data removed]",
      "text/plain": [
       "<Figure size 432x288 with 1 Axes>"
      ]
     },
     "metadata": {},
     "output_type": "display_data"
    }
   ],
   "source": [
    "fector['pe_ratio'][:1000].plot()\n",
    "fector['pe_ratio1'][:1000].plot()"
   ]
  },
  {
   "cell_type": "markdown",
   "metadata": {},
   "source": [
    "- 自实现分位数去极值"
   ]
  },
  {
   "cell_type": "code",
   "execution_count": 68,
   "metadata": {},
   "outputs": [],
   "source": [
    "import numpy as np\n",
    "\n",
    "def quantile(factor, up, down):\n",
    "    up_scale = np.percentile(factor, up)\n",
    "    down_scale = np.percentile(factor, down)\n",
    "    \n",
    "    factor = np.where(factor > up_scale, up_scale, factor)\n",
    "    factor = np.where(factor < down_scale, down_scale, factor)\n",
    "    return factor"
   ]
  },
  {
   "cell_type": "code",
   "execution_count": 71,
   "metadata": {},
   "outputs": [],
   "source": [
    "fector['pe_ratio2'] = quantile(fector['pe_ratio'], 97.5, 2.5)"
   ]
  },
  {
   "cell_type": "code",
   "execution_count": 72,
   "metadata": {},
   "outputs": [
    {
     "data": {
      "text/plain": [
       "<matplotlib.axes._subplots.AxesSubplot at 0x7fcb582d8c50>"
      ]
     },
     "execution_count": 72,
     "metadata": {},
     "output_type": "execute_result"
    },
    {
     "data": {
      "image/png": "[encoded data removed]",
      "text/plain": [
       "<Figure size 432x288 with 1 Axes>"
      ]
     },
     "metadata": {},
     "output_type": "display_data"
    }
   ],
   "source": [
    "fector['pe_ratio'][:1000].plot()\n",
    "fector['pe_ratio2'][:1000].plot()"
   ]
  },
  {
   "cell_type": "markdown",
   "metadata": {},
   "source": [
    "- 中位数去极值"
   ]
  },
  {
   "cell_type": "code",
   "execution_count": 82,
   "metadata": {},
   "outputs": [],
   "source": [
    "def mad(factor):\n",
    "    # 求出因子的中位数\n",
    "    med = np.median(factor)\n",
    "    \n",
    "    # 求出mad = medina(\\x - mea\\)    (x为没一个元素的值)\n",
    "    mad = np.median(abs(factor - med))\n",
    "    \n",
    "    up = med + (3 * 1.4826 * mad)\n",
    "    down = med - (3 * 1.4826 * mad)\n",
    "    \n",
    "    factor = np.where(factor > up, up, factor)\n",
    "    factor = np.where(factor < down, down, factor)\n",
    "    \n",
    "    return factor"
   ]
  },
  {
   "cell_type": "code",
   "execution_count": 83,
   "metadata": {},
   "outputs": [],
   "source": [
    "fector['pe_ratio3'] = mad(fector['pe_ratio'])"
   ]
  },
  {
   "cell_type": "code",
   "execution_count": 84,
   "metadata": {},
   "outputs": [
    {
     "data": {
      "text/plain": [
       "<matplotlib.axes._subplots.AxesSubplot at 0x7fcb583de550>"
      ]
     },
     "execution_count": 84,
     "metadata": {},
     "output_type": "execute_result"
    },
    {
     "data": {
      "image/png": "[encoded data removed]",
      "text/plain": [
       "<Figure size 432x288 with 1 Axes>"
      ]
     },
     "metadata": {},
     "output_type": "display_data"
    }
   ],
   "source": [
    "fector['pe_ratio'][:1000].plot()\n",
    "fector['pe_ratio3'][:1000].plot()"
   ]
  },
  {
   "cell_type": "markdown",
   "metadata": {},
   "source": [
    "- 正态分布去极值"
   ]
  },
  {
   "cell_type": "code",
   "execution_count": 85,
   "metadata": {},
   "outputs": [],
   "source": [
    "def three_sigma(factor):\n",
    "    \n",
    "    # 求出因子数据的平均值和标准差\n",
    "    mean = factor.mean()\n",
    "    std = factor.std()\n",
    "    \n",
    "    # 左右的数据加减3个标准差\n",
    "    high = mean + (3 * std)\n",
    "    low = mean - (3 * std)\n",
    "    \n",
    "    # 替换\n",
    "    factor = np.where(factor > high, high, factor)\n",
    "    factor = np.where(factor < low, low, factor)\n",
    "    \n",
    "    return factor"
   ]
  },
  {
   "cell_type": "code",
   "execution_count": 86,
   "metadata": {},
   "outputs": [],
   "source": [
    "fector['pe_ratio4'] = three_sigma(fector['pe_ratio'])"
   ]
  },
  {
   "cell_type": "code",
   "execution_count": 87,
   "metadata": {},
   "outputs": [
    {
     "data": {
      "text/plain": [
       "<matplotlib.axes._subplots.AxesSubplot at 0x7fcb581aee10>"
      ]
     },
     "execution_count": 87,
     "metadata": {},
     "output_type": "execute_result"
    },
    {
     "data": {
      "image/png": "[encoded data removed]",
      "text/plain": [
       "<Figure size 432x288 with 1 Axes>"
      ]
     },
     "metadata": {},
     "output_type": "display_data"
    }
   ],
   "source": [
    "fector['pe_ratio'][:1000].plot()\n",
    "fector['pe_ratio4'][:1000].plot()"
   ]
  },
  {
   "cell_type": "markdown",
   "metadata": {},
   "source": [
    "- 因子数据处理-标准化"
   ]
  },
  {
   "cell_type": "code",
   "execution_count": 88,
   "metadata": {},
   "outputs": [],
   "source": [
    "from sklearn.linear_model import LinearRegression"
   ]
  },
  {
   "cell_type": "markdown",
   "metadata": {},
   "source": [
    "- 去极值和标准化完全是两个东西。\n",
    "- 去极值是把数据脏数据拉回来。\n",
    "- 标准化则是把数据拉到同一纬度来"
   ]
  },
  {
   "cell_type": "code",
   "execution_count": 90,
   "metadata": {},
   "outputs": [],
   "source": [
    "from sklearn.preprocessing import StandardScaler"
   ]
  },
  {
   "cell_type": "code",
   "execution_count": 91,
   "metadata": {},
   "outputs": [],
   "source": [
    "std = StandardScaler()"
   ]
  },
  {
   "cell_type": "code",
   "execution_count": 99,
   "metadata": {},
   "outputs": [
    {
     "name": "stderr",
     "output_type": "stream",
     "text": [
      "/opt/conda/envs/ricequant/lib/python3.5/site-packages/sklearn/utils/validation.py:429: DataConversionWarning: Data with input dtype object was converted to float64 by StandardScaler.\n",
      "  warnings.warn(msg, _DataConversionWarning)\n"
     ]
    }
   ],
   "source": [
    "fector['pe_ratio5'] = std.fit_transform(fector['pe_ratio'])"
   ]
  },
  {
   "cell_type": "code",
   "execution_count": 94,
   "metadata": {},
   "outputs": [
    {
     "data": {
      "text/plain": [
       "<matplotlib.axes._subplots.AxesSubplot at 0x7fcb57634d30>"
      ]
     },
     "execution_count": 94,
     "metadata": {},
     "output_type": "execute_result"
    },
    {
     "data": {
      "image/png": "[encoded data removed]",
      "text/plain": [
       "<Figure size 432x288 with 1 Axes>"
      ]
     },
     "metadata": {},
     "output_type": "display_data"
    }
   ],
   "source": [
    "fector['pe_ratio4'][:1000].plot()\n",
    "fector['pe_ratio5'][:1000].plot()"
   ]
  },
  {
   "cell_type": "markdown",
   "metadata": {},
   "source": [
    "- 自实现标准化"
   ]
  },
  {
   "cell_type": "code",
   "execution_count": 95,
   "metadata": {},
   "outputs": [],
   "source": [
    "def stand(factor):\n",
    "    mean = factor.mean()\n",
    "    \n",
    "    std = factor.std()\n",
    "    \n",
    "    return (factor - mean)/std"
   ]
  },
  {
   "cell_type": "code",
   "execution_count": 103,
   "metadata": {},
   "outputs": [],
   "source": [
    "fector['pe_ratio6'] = stand(fector['pe_ratio2'])"
   ]
  },
  {
   "cell_type": "code",
   "execution_count": 104,
   "metadata": {},
   "outputs": [
    {
     "data": {
      "text/plain": [
       "<matplotlib.axes._subplots.AxesSubplot at 0x7fcb54056cf8>"
      ]
     },
     "execution_count": 104,
     "metadata": {},
     "output_type": "execute_result"
    },
    {
     "data": {
      "image/png": "[encoded data removed]",
      "text/plain": [
       "<Figure size 432x288 with 1 Axes>"
      ]
     },
     "metadata": {},
     "output_type": "display_data"
    }
   ],
   "source": [
    "fector['pe_ratio2'][:1000].plot()\n",
    "fector['pe_ratio6'][:1000].plot()"
   ]
  },
  {
   "cell_type": "code",
   "execution_count": 105,
   "metadata": {},
   "outputs": [],
   "source": [
    "q = query(fundamentals.eod_derivative_indicator.pb_ratio,\n",
    "         fundamentals.eod_derivative_indicator.market_cap)"
   ]
  },
  {
   "cell_type": "code",
   "execution_count": 117,
   "metadata": {},
   "outputs": [],
   "source": [
    "factor = get_fundamentals(q, entry_date=\"2018-01-03\")[:,\"20180103\", :]"
   ]
  },
  {
   "cell_type": "code",
   "execution_count": 118,
   "metadata": {},
   "outputs": [],
   "source": [
    "factor['pb_ratio'] = mad(factor['pb_ratio'])\n",
    "factor['pb_ratio'] = stand(factor['pb_ratio'])"
   ]
  },
  {
   "cell_type": "code",
   "execution_count": 119,
   "metadata": {},
   "outputs": [
    {
     "ename": "AttributeError",
     "evalue": "'Series' object has no attribute 'reshape'",
     "output_type": "error",
     "traceback": [
      "\u001b[0;31m---------------------------------------------------------------------------\u001b[0m",
      "\u001b[0;31mAttributeError\u001b[0m                            Traceback (most recent call last)",
      "\u001b[0;32m<ipython-input-119-1fe2092efd4d>\u001b[0m in \u001b[0;36m<module>\u001b[0;34m()\u001b[0m\n\u001b[0;32m----> 1\u001b[0;31m \u001b[0mx\u001b[0m \u001b[0;34m=\u001b[0m \u001b[0mfactor\u001b[0m\u001b[0;34m[\u001b[0m\u001b[0;34m'market_cap'\u001b[0m\u001b[0;34m]\u001b[0m\u001b[0;34m.\u001b[0m\u001b[0mreshape\u001b[0m\u001b[0;34m(\u001b[0m\u001b[0;34m-\u001b[0m\u001b[0;36m1\u001b[0m\u001b[0;34m,\u001b[0m \u001b[0;36m1\u001b[0m\u001b[0;34m)\u001b[0m\u001b[0;34m\u001b[0m\u001b[0m\n\u001b[0m\u001b[1;32m      2\u001b[0m \u001b[0my\u001b[0m \u001b[0;34m=\u001b[0m \u001b[0mfactor\u001b[0m\u001b[0;34m[\u001b[0m\u001b[0;34m'pb_ratio'\u001b[0m\u001b[0;34m]\u001b[0m\u001b[0;34m\u001b[0m\u001b[0m\n",
      "\u001b[0;32m/opt/conda/envs/ricequant/lib/python3.5/site-packages/pandas/core/generic.py\u001b[0m in \u001b[0;36m__getattr__\u001b[0;34m(self, name)\u001b[0m\n\u001b[1;32m   4374\u001b[0m             \u001b[0;32mif\u001b[0m \u001b[0mself\u001b[0m\u001b[0;34m.\u001b[0m\u001b[0m_info_axis\u001b[0m\u001b[0;34m.\u001b[0m\u001b[0m_can_hold_identifiers_and_holds_name\u001b[0m\u001b[0;34m(\u001b[0m\u001b[0mname\u001b[0m\u001b[0;34m)\u001b[0m\u001b[0;34m:\u001b[0m\u001b[0;34m\u001b[0m\u001b[0m\n\u001b[1;32m   4375\u001b[0m                 \u001b[0;32mreturn\u001b[0m \u001b[0mself\u001b[0m\u001b[0;34m[\u001b[0m\u001b[0mname\u001b[0m\u001b[0;34m]\u001b[0m\u001b[0;34m\u001b[0m\u001b[0m\n\u001b[0;32m-> 4376\u001b[0;31m             \u001b[0;32mreturn\u001b[0m \u001b[0mobject\u001b[0m\u001b[0;34m.\u001b[0m\u001b[0m__getattribute__\u001b[0m\u001b[0;34m(\u001b[0m\u001b[0mself\u001b[0m\u001b[0;34m,\u001b[0m \u001b[0mname\u001b[0m\u001b[0;34m)\u001b[0m\u001b[0;34m\u001b[0m\u001b[0m\n\u001b[0m\u001b[1;32m   4377\u001b[0m \u001b[0;34m\u001b[0m\u001b[0m\n\u001b[1;32m   4378\u001b[0m     \u001b[0;32mdef\u001b[0m \u001b[0m__setattr__\u001b[0m\u001b[0;34m(\u001b[0m\u001b[0mself\u001b[0m\u001b[0;34m,\u001b[0m \u001b[0mname\u001b[0m\u001b[0;34m,\u001b[0m \u001b[0mvalue\u001b[0m\u001b[0;34m)\u001b[0m\u001b[0;34m:\u001b[0m\u001b[0;34m\u001b[0m\u001b[0m\n",
      "\u001b[0;31mAttributeError\u001b[0m: 'Series' object has no attribute 'reshape'"
     ]
    }
   ],
   "source": [
    "x = factor['market_cap'].reshape(-1, 1)\n",
    "y = factor['pb_ratio']"
   ]
  },
  {
   "cell_type": "code",
   "execution_count": 112,
   "metadata": {},
   "outputs": [
    {
     "data": {
      "text/plain": [
       "(3469,)"
      ]
     },
     "execution_count": 112,
     "metadata": {},
     "output_type": "execute_result"
    }
   ],
   "source": [
    "x.shape"
   ]
  },
  {
   "cell_type": "code",
   "execution_count": 113,
   "metadata": {},
   "outputs": [
    {
     "data": {
      "text/plain": [
       "(3469,)"
      ]
     },
     "execution_count": 113,
     "metadata": {},
     "output_type": "execute_result"
    }
   ],
   "source": [
    "y.shape"
   ]
  },
  {
   "cell_type": "code",
   "execution_count": 114,
   "metadata": {},
   "outputs": [
    {
     "ename": "AttributeError",
     "evalue": "'Series' object has no attribute 'reshape'",
     "output_type": "error",
     "traceback": [
      "\u001b[0;31m---------------------------------------------------------------------------\u001b[0m",
      "\u001b[0;31mAttributeError\u001b[0m                            Traceback (most recent call last)",
      "\u001b[0;32m<ipython-input-114-2380191a65e6>\u001b[0m in \u001b[0;36m<module>\u001b[0;34m()\u001b[0m\n\u001b[0;32m----> 1\u001b[0;31m \u001b[0mx\u001b[0m \u001b[0;34m=\u001b[0m \u001b[0mx\u001b[0m\u001b[0;34m.\u001b[0m\u001b[0mreshape\u001b[0m\u001b[0;34m(\u001b[0m\u001b[0;34m-\u001b[0m\u001b[0;36m1\u001b[0m\u001b[0;34m,\u001b[0m \u001b[0;36m1\u001b[0m\u001b[0;34m)\u001b[0m\u001b[0;34m\u001b[0m\u001b[0m\n\u001b[0m",
      "\u001b[0;32m/opt/conda/envs/ricequant/lib/python3.5/site-packages/pandas/core/generic.py\u001b[0m in \u001b[0;36m__getattr__\u001b[0;34m(self, name)\u001b[0m\n\u001b[1;32m   4374\u001b[0m             \u001b[0;32mif\u001b[0m \u001b[0mself\u001b[0m\u001b[0;34m.\u001b[0m\u001b[0m_info_axis\u001b[0m\u001b[0;34m.\u001b[0m\u001b[0m_can_hold_identifiers_and_holds_name\u001b[0m\u001b[0;34m(\u001b[0m\u001b[0mname\u001b[0m\u001b[0;34m)\u001b[0m\u001b[0;34m:\u001b[0m\u001b[0;34m\u001b[0m\u001b[0m\n\u001b[1;32m   4375\u001b[0m                 \u001b[0;32mreturn\u001b[0m \u001b[0mself\u001b[0m\u001b[0;34m[\u001b[0m\u001b[0mname\u001b[0m\u001b[0;34m]\u001b[0m\u001b[0;34m\u001b[0m\u001b[0m\n\u001b[0;32m-> 4376\u001b[0;31m             \u001b[0;32mreturn\u001b[0m \u001b[0mobject\u001b[0m\u001b[0;34m.\u001b[0m\u001b[0m__getattribute__\u001b[0m\u001b[0;34m(\u001b[0m\u001b[0mself\u001b[0m\u001b[0;34m,\u001b[0m \u001b[0mname\u001b[0m\u001b[0;34m)\u001b[0m\u001b[0;34m\u001b[0m\u001b[0m\n\u001b[0m\u001b[1;32m   4377\u001b[0m \u001b[0;34m\u001b[0m\u001b[0m\n\u001b[1;32m   4378\u001b[0m     \u001b[0;32mdef\u001b[0m \u001b[0m__setattr__\u001b[0m\u001b[0;34m(\u001b[0m\u001b[0mself\u001b[0m\u001b[0;34m,\u001b[0m \u001b[0mname\u001b[0m\u001b[0;34m,\u001b[0m \u001b[0mvalue\u001b[0m\u001b[0;34m)\u001b[0m\u001b[0;34m:\u001b[0m\u001b[0;34m\u001b[0m\u001b[0m\n",
      "\u001b[0;31mAttributeError\u001b[0m: 'Series' object has no attribute 'reshape'"
     ]
    }
   ],
   "source": [
    "x = x.reshape(-1, 1)"
   ]
  },
  {
   "cell_type": "code",
   "execution_count": null,
   "metadata": {},
   "outputs": [],
   "source": []
  }
 ],
 "metadata": {
  "kernelspec": {
   "display_name": "Python 3",
   "language": "python",
   "name": "python3"
  },
  "language_info": {
   "codemirror_mode": {
    "name": "ipython",
    "version": 3
   },
   "file_extension": ".py",
   "mimetype": "text/x-python",
   "name": "python",
   "nbconvert_exporter": "python",
   "pygments_lexer": "ipython3",
   "version": "3.5.5"
  }
 },
 "nbformat": 4,
 "nbformat_minor": 2
}
