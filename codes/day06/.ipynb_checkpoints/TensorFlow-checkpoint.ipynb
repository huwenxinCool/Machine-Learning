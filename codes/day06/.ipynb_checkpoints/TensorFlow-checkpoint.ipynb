{
 "cells": [
  {
   "cell_type": "code",
   "execution_count": 3,
   "metadata": {},
   "outputs": [],
   "source": [
    "import tensorflow as tf"
   ]
  },
  {
   "cell_type": "code",
   "execution_count": 4,
   "metadata": {},
   "outputs": [],
   "source": [
    "# 定义一个常量\n",
    "a = tf.constant(3)\n",
    "b = tf.constant(5)"
   ]
  },
  {
   "cell_type": "code",
   "execution_count": 5,
   "metadata": {},
   "outputs": [],
   "source": [
    "# 进行加法运算\n",
    "s = tf.add(a, b)"
   ]
  },
  {
   "cell_type": "code",
   "execution_count": 6,
   "metadata": {},
   "outputs": [
    {
     "data": {
      "text/plain": [
       "<tf.Tensor 'Add:0' shape=() dtype=int32>"
      ]
     },
     "execution_count": 6,
     "metadata": {},
     "output_type": "execute_result"
    }
   ],
   "source": [
    "s"
   ]
  },
  {
   "cell_type": "code",
   "execution_count": 11,
   "metadata": {},
   "outputs": [
    {
     "name": "stdout",
     "output_type": "stream",
     "text": [
      "3\n",
      "8\n"
     ]
    }
   ],
   "source": [
    "# 运行一个会话\n",
    "with tf.Session() as sess:\n",
    "    print(sess.run(a))\n",
    "    print(sess.run(s))"
   ]
  },
  {
   "cell_type": "code",
   "execution_count": 12,
   "metadata": {},
   "outputs": [
    {
     "data": {
      "text/plain": [
       "<tf.Tensor 'Const:0' shape=() dtype=int32>"
      ]
     },
     "execution_count": 12,
     "metadata": {},
     "output_type": "execute_result"
    }
   ],
   "source": [
    "a"
   ]
  },
  {
   "cell_type": "markdown",
   "metadata": {},
   "source": [
    "# tensorflow的结构\n",
    "- 图\n",
    "- 会话\n",
    "- 张量\n",
    "- 节点"
   ]
  },
  {
   "cell_type": "markdown",
   "metadata": {},
   "source": [
    "## 图的使用"
   ]
  },
  {
   "cell_type": "code",
   "execution_count": 14,
   "metadata": {},
   "outputs": [
    {
     "data": {
      "text/plain": [
       "<tensorflow.python.framework.ops.Graph at 0x1b37a56fdd8>"
      ]
     },
     "execution_count": 14,
     "metadata": {},
     "output_type": "execute_result"
    }
   ],
   "source": [
    "# 查看默认图\n",
    "tf.get_default_graph()"
   ]
  },
  {
   "cell_type": "code",
   "execution_count": 25,
   "metadata": {},
   "outputs": [
    {
     "name": "stdout",
     "output_type": "stream",
     "text": [
      "<tensorflow.python.framework.ops.Graph object at 0x000001B37A56FDD8>\n",
      "<tensorflow.python.framework.ops.Graph object at 0x000001B37A56FDD8>\n",
      "<tensorflow.python.framework.ops.Graph object at 0x000001B37A56FDD8>\n",
      "<tensorflow.python.framework.ops.Graph object at 0x000001B37A56FDD8>\n",
      "<tensorflow.python.framework.ops.Graph object at 0x000001B37A65F128>\n",
      "<tensorflow.python.framework.ops.Graph object at 0x000001B37A65F128>\n"
     ]
    }
   ],
   "source": [
    "# 可以看出来都在一个内存地址中， 说明是在同一张图中\n",
    "print(tf.get_default_graph())\n",
    "with tf.Session() as sess:\n",
    "    print(a.graph)\n",
    "    print(s.graph)\n",
    "    print(sess.graph)\n",
    "\n",
    "# 不使用默认图， 新建一个图\n",
    "g = tf.Graph()\n",
    "# 使用新图\n",
    "with g.as_default() as sess:\n",
    "    c = tf.constant(6)\n",
    "    print(c.graph)\n",
    "print(c.graph)"
   ]
  },
  {
   "cell_type": "code",
   "execution_count": 29,
   "metadata": {},
   "outputs": [
    {
     "name": "stdout",
     "output_type": "stream",
     "text": [
      "<tensorflow.python.framework.ops.Graph object at 0x000001B37A65F128>\n",
      "<tensorflow.python.framework.ops.Graph object at 0x000001B37A56FDD8>\n",
      "<tensorflow.python.framework.ops.Graph object at 0x000001B37A56FDD8>\n"
     ]
    }
   ],
   "source": [
    "# 图中变量会共享吗？\n",
    "with tf.Session() as sess:\n",
    "    print(c.graph)\n",
    "    print(a.graph)\n",
    "\n",
    "with g.as_default() as sess:\n",
    "    print(a.graph)"
   ]
  },
  {
   "cell_type": "code",
   "execution_count": 31,
   "metadata": {},
   "outputs": [
    {
     "name": "stdout",
     "output_type": "stream",
     "text": [
      "<tensorflow.python.framework.ops.Graph object at 0x000001B37A56FDD8>\n",
      "<tensorflow.python.framework.ops.Graph object at 0x000001B37A56FDD8>\n",
      "<tensorflow.python.framework.ops.Graph object at 0x000001B37A56FDD8>\n"
     ]
    }
   ],
   "source": [
    "## TensorBoard 可视化学习\n",
    "with tf.Session() as sess:\n",
    "    print(a.graph)\n",
    "    print(s.graph)\n",
    "    print(sess.graph)\n",
    "    # 指定文件的保存位置\n",
    "    tf.summary.FileWriter('./demo/', graph=sess.graph)\n",
    "    \n",
    "    # 开启服务\n",
    "    # tensorboard  --logdir=\"./demo/\""
   ]
  }
 ],
 "metadata": {
  "kernelspec": {
   "display_name": "Python 3",
   "language": "python",
   "name": "python3"
  },
  "language_info": {
   "codemirror_mode": {
    "name": "ipython",
    "version": 3
   },
   "file_extension": ".py",
   "mimetype": "text/x-python",
   "name": "python",
   "nbconvert_exporter": "python",
   "pygments_lexer": "ipython3",
   "version": "3.6.3"
  }
 },
 "nbformat": 4,
 "nbformat_minor": 2
}
