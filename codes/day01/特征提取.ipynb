{
 "cells": [
  {
   "cell_type": "markdown",
   "metadata": {},
   "source": [
    "# 特征提取的意义?\n",
    "- 就是为了让计算器更好的取理解特征值"
   ]
  },
  {
   "cell_type": "code",
   "execution_count": 2,
   "metadata": {},
   "outputs": [],
   "source": [
    "# 字典提取的API\n",
    "from sklearn.feature_extraction import DictVectorizer"
   ]
  },
  {
   "cell_type": "code",
   "execution_count": 3,
   "metadata": {},
   "outputs": [],
   "source": [
    "data = [{'city': '北京','temperature':100},\n",
    "        {'city': '上海','temperature':60},\n",
    "        {'city': '深圳','temperature':30}]"
   ]
  },
  {
   "cell_type": "code",
   "execution_count": 4,
   "metadata": {},
   "outputs": [],
   "source": [
    "# 1.实例一个转换器\n",
    "transfer = DictVectorizer()\n",
    "\n",
    "# 2.调用fit_transform\n",
    "data1 = transfer.fit_transform(data)\n"
   ]
  },
  {
   "cell_type": "code",
   "execution_count": 6,
   "metadata": {},
   "outputs": [
    {
     "name": "stdout",
     "output_type": "stream",
     "text": [
      "  (0, 1)\t1.0\n",
      "  (0, 3)\t100.0\n",
      "  (1, 0)\t1.0\n",
      "  (1, 3)\t60.0\n",
      "  (2, 2)\t1.0\n",
      "  (2, 3)\t30.0\n"
     ]
    }
   ],
   "source": [
    "print(data1)"
   ]
  },
  {
   "cell_type": "code",
   "execution_count": 10,
   "metadata": {},
   "outputs": [
    {
     "data": {
      "text/plain": [
       "['city=上海', 'city=北京', 'city=深圳', 'temperature']"
      ]
     },
     "execution_count": 10,
     "metadata": {},
     "output_type": "execute_result"
    }
   ],
   "source": [
    "# 打印特征值的名称\n",
    "transfer.get_feature_names()"
   ]
  },
  {
   "cell_type": "code",
   "execution_count": 13,
   "metadata": {},
   "outputs": [],
   "source": [
    "# 1.实例一个转换器\n",
    "# sparse=False 会把数据变成one-hot编码\n",
    "transfer2 = DictVectorizer(sparse=False)\n",
    "\n",
    "# 2.调用fit_transform\n",
    "data2 = transfer2.fit_transform(data)\n"
   ]
  },
  {
   "cell_type": "code",
   "execution_count": 14,
   "metadata": {},
   "outputs": [
    {
     "name": "stdout",
     "output_type": "stream",
     "text": [
      "[[  0.   1.   0. 100.]\n",
      " [  1.   0.   0.  60.]\n",
      " [  0.   0.   1.  30.]]\n"
     ]
    }
   ],
   "source": [
    "print(data2)"
   ]
  },
  {
   "cell_type": "code",
   "execution_count": 15,
   "metadata": {},
   "outputs": [
    {
     "data": {
      "text/plain": [
       "['city=上海', 'city=北京', 'city=深圳', 'temperature']"
      ]
     },
     "execution_count": 15,
     "metadata": {},
     "output_type": "execute_result"
    }
   ],
   "source": [
    "transfer.get_feature_names()"
   ]
  },
  {
   "cell_type": "code",
   "execution_count": 17,
   "metadata": {},
   "outputs": [],
   "source": [
    "# 上海, 北京, 深圳, temperature\n",
    "# 0     1    0     100\n",
    "# 1     0    0     60 \n",
    "# 0     0    1     30\n",
    "\n",
    "# (0, 1)\t1.0\n",
    "# (0, 3)\t100.0\n",
    "# (1, 0)\t1.0\n",
    "# (1, 3)\t60.0\n",
    "# (2, 2)\t1.0\n",
    "# (2, 3)\t30.0"
   ]
  },
  {
   "cell_type": "markdown",
   "metadata": {},
   "source": [
    "# 文本特征提取"
   ]
  },
  {
   "cell_type": "code",
   "execution_count": 18,
   "metadata": {},
   "outputs": [],
   "source": [
    "# api\n",
    "from sklearn.feature_extraction.text import CountVectorizer"
   ]
  },
  {
   "cell_type": "code",
   "execution_count": 19,
   "metadata": {},
   "outputs": [],
   "source": [
    "txt_data = [\"life is short,i like like python\", \"life is too long,i dislike python\"]"
   ]
  },
  {
   "cell_type": "code",
   "execution_count": 20,
   "metadata": {},
   "outputs": [],
   "source": [
    "# 实例转换器\n",
    "transfer3 = CountVectorizer()\n",
    "# 调用fit_transform\n",
    "data3 = transfer3.fit_transform(txt_data)"
   ]
  },
  {
   "cell_type": "code",
   "execution_count": 21,
   "metadata": {},
   "outputs": [
    {
     "data": {
      "text/plain": [
       "array([[0, 1, 1, 2, 0, 1, 1, 0],\n",
       "       [1, 1, 1, 0, 1, 1, 0, 1]], dtype=int64)"
      ]
     },
     "execution_count": 21,
     "metadata": {},
     "output_type": "execute_result"
    }
   ],
   "source": [
    "data3.toarray()"
   ]
  },
  {
   "cell_type": "code",
   "execution_count": 22,
   "metadata": {},
   "outputs": [
    {
     "data": {
      "text/plain": [
       "['dislike', 'is', 'life', 'like', 'long', 'python', 'short', 'too']"
      ]
     },
     "execution_count": 22,
     "metadata": {},
     "output_type": "execute_result"
    }
   ],
   "source": [
    "transfer3.get_feature_names()"
   ]
  },
  {
   "cell_type": "markdown",
   "metadata": {},
   "source": [
    "# 上面的是英文, 我们如果使用中文勒?"
   ]
  },
  {
   "cell_type": "code",
   "execution_count": 26,
   "metadata": {},
   "outputs": [],
   "source": [
    "txt_data4 = [\"人生苦短，我喜欢Python\", \"生活太长久，我不喜欢Python\"]"
   ]
  },
  {
   "cell_type": "code",
   "execution_count": 31,
   "metadata": {},
   "outputs": [],
   "source": [
    "# 实例转换器\n",
    "transfer4 = CountVectorizer()\n",
    "# 调用fit_transform\n",
    "data4 = transfer4.fit_transform(txt_data4)"
   ]
  },
  {
   "cell_type": "code",
   "execution_count": 32,
   "metadata": {},
   "outputs": [
    {
     "data": {
      "text/plain": [
       "array([[1, 0, 1, 0],\n",
       "       [0, 1, 0, 1]], dtype=int64)"
      ]
     },
     "execution_count": 32,
     "metadata": {},
     "output_type": "execute_result"
    }
   ],
   "source": [
    "data4.toarray()"
   ]
  },
  {
   "cell_type": "code",
   "execution_count": 33,
   "metadata": {},
   "outputs": [
    {
     "data": {
      "text/plain": [
       "['人生苦短', '我不喜欢python', '我喜欢python', '生活太长久']"
      ]
     },
     "execution_count": 33,
     "metadata": {},
     "output_type": "execute_result"
    }
   ],
   "source": [
    "transfer4.get_feature_names()"
   ]
  },
  {
   "cell_type": "code",
   "execution_count": 36,
   "metadata": {},
   "outputs": [],
   "source": [
    "# 发现都是用逗号进行分割的, 这不是我想要的  我要的是单个词,单个字的哪种\n",
    "# 解决方法:使用jieba分词"
   ]
  },
  {
   "cell_type": "code",
   "execution_count": 37,
   "metadata": {},
   "outputs": [],
   "source": [
    "import jieba\n",
    "\n",
    "def cut_word(data_list):\n",
    "    text = \" \".join(list(jieba.cut(data_list)))\n",
    "    return text"
   ]
  },
  {
   "cell_type": "code",
   "execution_count": 41,
   "metadata": {},
   "outputs": [
    {
     "data": {
      "text/plain": [
       "'我 爱 北京 天安门'"
      ]
     },
     "execution_count": 41,
     "metadata": {},
     "output_type": "execute_result"
    }
   ],
   "source": [
    "ss = '我爱北京天安门'\n",
    "\" \".join(list(jieba.cut(ss)))"
   ]
  },
  {
   "cell_type": "code",
   "execution_count": 42,
   "metadata": {},
   "outputs": [],
   "source": [
    "data_list = [\"一种还是一种今天很残酷，明天更残酷，后天很美好，但绝对大部分是死在明天晚上，所以每个人不要放弃今天。\",\n",
    "            \"我们看到的从很远星系来的光是在几百万年之前发出的，这样当我们看到宇宙时，我们是在看它的过去。\",\n",
    "            \"如果只用一种方式了解某样事物，你就不会真正了解它。了解事物真正含义的秘密取决于如何将其与我们所了解的事物相联系。\"]"
   ]
  },
  {
   "cell_type": "code",
   "execution_count": 43,
   "metadata": {},
   "outputs": [],
   "source": [
    "txt_list = list()\n",
    "\n",
    "for i in data_list:\n",
    "    ret = cut_word(i)\n",
    "    txt_list.append(ret)"
   ]
  },
  {
   "cell_type": "code",
   "execution_count": 44,
   "metadata": {},
   "outputs": [
    {
     "data": {
      "text/plain": [
       "['一种 还是 一种 今天 很 残酷 ， 明天 更 残酷 ， 后天 很 美好 ， 但 绝对 大部分 是 死 在 明天 晚上 ， 所以 每个 人 不要 放弃 今天 。',\n",
       " '我们 看到 的 从 很 远 星系 来 的 光是在 几百万年 之前 发出 的 ， 这样 当 我们 看到 宇宙 时 ， 我们 是 在 看 它 的 过去 。',\n",
       " '如果 只用 一种 方式 了解 某样 事物 ， 你 就 不会 真正 了解 它 。 了解 事物 真正 含义 的 秘密 取决于 如何 将 其 与 我们 所 了解 的 事物 相 联系 。']"
      ]
     },
     "execution_count": 44,
     "metadata": {},
     "output_type": "execute_result"
    }
   ],
   "source": [
    "txt_list"
   ]
  },
  {
   "cell_type": "code",
   "execution_count": 45,
   "metadata": {},
   "outputs": [],
   "source": [
    "transfer5 = CountVectorizer()\n",
    "\n",
    "data5 = transfer5.fit_transform(txt_list)"
   ]
  },
  {
   "cell_type": "code",
   "execution_count": 47,
   "metadata": {},
   "outputs": [
    {
     "data": {
      "text/plain": [
       "array([[2, 0, 1, 0, 0, 0, 2, 0, 0, 0, 0, 0, 1, 0, 1, 0, 0, 0, 0, 1, 1, 0,\n",
       "        2, 0, 1, 0, 2, 1, 0, 0, 0, 1, 1, 0, 0, 1, 0],\n",
       "       [0, 0, 0, 1, 0, 0, 0, 1, 1, 1, 0, 0, 0, 0, 0, 0, 0, 1, 3, 0, 0, 0,\n",
       "        0, 1, 0, 0, 0, 0, 2, 0, 0, 0, 0, 0, 1, 0, 1],\n",
       "       [1, 1, 0, 0, 4, 3, 0, 0, 0, 0, 1, 1, 0, 1, 0, 1, 1, 0, 1, 0, 0, 1,\n",
       "        0, 0, 0, 1, 0, 0, 0, 2, 1, 0, 0, 1, 0, 0, 0]], dtype=int64)"
      ]
     },
     "execution_count": 47,
     "metadata": {},
     "output_type": "execute_result"
    }
   ],
   "source": [
    "data5.toarray()"
   ]
  },
  {
   "cell_type": "code",
   "execution_count": 48,
   "metadata": {},
   "outputs": [
    {
     "data": {
      "text/plain": [
       "['一种',\n",
       " '不会',\n",
       " '不要',\n",
       " '之前',\n",
       " '了解',\n",
       " '事物',\n",
       " '今天',\n",
       " '光是在',\n",
       " '几百万年',\n",
       " '发出',\n",
       " '取决于',\n",
       " '只用',\n",
       " '后天',\n",
       " '含义',\n",
       " '大部分',\n",
       " '如何',\n",
       " '如果',\n",
       " '宇宙',\n",
       " '我们',\n",
       " '所以',\n",
       " '放弃',\n",
       " '方式',\n",
       " '明天',\n",
       " '星系',\n",
       " '晚上',\n",
       " '某样',\n",
       " '残酷',\n",
       " '每个',\n",
       " '看到',\n",
       " '真正',\n",
       " '秘密',\n",
       " '绝对',\n",
       " '美好',\n",
       " '联系',\n",
       " '过去',\n",
       " '还是',\n",
       " '这样']"
      ]
     },
     "execution_count": 48,
     "metadata": {},
     "output_type": "execute_result"
    }
   ],
   "source": [
    "transfer5.get_feature_names()"
   ]
  },
  {
   "cell_type": "code",
   "execution_count": 54,
   "metadata": {},
   "outputs": [
    {
     "data": {
      "text/plain": [
       "['生活', '太长久', '，', '我', '不', '喜欢', 'Python']"
      ]
     },
     "execution_count": 54,
     "metadata": {},
     "output_type": "execute_result"
    }
   ],
   "source": [
    "list(jieba.cut(\"生活太长久，我不喜欢Python\"))"
   ]
  },
  {
   "cell_type": "code",
   "execution_count": 55,
   "metadata": {},
   "outputs": [],
   "source": [
    "# 但如果一个词在多篇文章中出现的次数 上面的方法就不行了"
   ]
  },
  {
   "cell_type": "markdown",
   "metadata": {},
   "source": [
    "# Tf-idf文本特征提取\n",
    "- TF-IDF作用：用以评估一字词对于一个文件集或一个语料库中的其中一份文件的重要程度。\n",
    "\n",
    "## 公式\n",
    "- 词频（term frequency，tf）指的是某一个给定的词语在该文件中出现的频率\n",
    "- 逆向文档频率（inverse document frequency，idf）是一个词语普遍重要性的度量。某一特定词语的idf，可以由总文件数目除以包含该词语之文件的数目，再将得到的商取以10为底的对数得到\n",
    "- 注：假如一篇文件的总词语数是100个，而词语\"非常\"出现了5次，那么\"非常\"一词在该文件中的词频就是5/100=0.05。而计算文件频率（IDF）的方法是以文件集的文件总数，除以出现\"非常\"一词的文件数。所以，如果\"非常\"一词在1,0000份文件出现过，而文件总数是10,000,000份的话，其逆向文件频率就是lg（10,000,000 / 1,0000）=3。最后\"非常\"对于这篇文档的tf-idf的分数为0.05 * 3=0.15"
   ]
  },
  {
   "cell_type": "code",
   "execution_count": 58,
   "metadata": {},
   "outputs": [],
   "source": [
    "# api\n",
    "from sklearn.feature_extraction.text import TfidfVectorizer"
   ]
  },
  {
   "cell_type": "code",
   "execution_count": 60,
   "metadata": {},
   "outputs": [],
   "source": [
    "transfer6 = TfidfVectorizer()\n",
    "\n",
    "data6 = transfer6.fit_transform(txt_list)"
   ]
  },
  {
   "cell_type": "code",
   "execution_count": 62,
   "metadata": {},
   "outputs": [
    {
     "data": {
      "text/plain": [
       "array([[0.30847454, 0.        , 0.20280347, 0.        , 0.        ,\n",
       "        0.        , 0.40560694, 0.        , 0.        , 0.        ,\n",
       "        0.        , 0.        , 0.20280347, 0.        , 0.20280347,\n",
       "        0.        , 0.        , 0.        , 0.        , 0.20280347,\n",
       "        0.20280347, 0.        , 0.40560694, 0.        , 0.20280347,\n",
       "        0.        , 0.40560694, 0.20280347, 0.        , 0.        ,\n",
       "        0.        , 0.20280347, 0.20280347, 0.        , 0.        ,\n",
       "        0.20280347, 0.        ],\n",
       "       [0.        , 0.        , 0.        , 0.2410822 , 0.        ,\n",
       "        0.        , 0.        , 0.2410822 , 0.2410822 , 0.2410822 ,\n",
       "        0.        , 0.        , 0.        , 0.        , 0.        ,\n",
       "        0.        , 0.        , 0.2410822 , 0.55004769, 0.        ,\n",
       "        0.        , 0.        , 0.        , 0.2410822 , 0.        ,\n",
       "        0.        , 0.        , 0.        , 0.48216441, 0.        ,\n",
       "        0.        , 0.        , 0.        , 0.        , 0.2410822 ,\n",
       "        0.        , 0.2410822 ],\n",
       "       [0.12001469, 0.15780489, 0.        , 0.        , 0.63121956,\n",
       "        0.47341467, 0.        , 0.        , 0.        , 0.        ,\n",
       "        0.15780489, 0.15780489, 0.        , 0.15780489, 0.        ,\n",
       "        0.15780489, 0.15780489, 0.        , 0.12001469, 0.        ,\n",
       "        0.        , 0.15780489, 0.        , 0.        , 0.        ,\n",
       "        0.15780489, 0.        , 0.        , 0.        , 0.31560978,\n",
       "        0.15780489, 0.        , 0.        , 0.15780489, 0.        ,\n",
       "        0.        , 0.        ]])"
      ]
     },
     "execution_count": 62,
     "metadata": {},
     "output_type": "execute_result"
    }
   ],
   "source": [
    "data6.toarray()"
   ]
  },
  {
   "cell_type": "code",
   "execution_count": 63,
   "metadata": {},
   "outputs": [
    {
     "data": {
      "text/plain": [
       "['一种',\n",
       " '不会',\n",
       " '不要',\n",
       " '之前',\n",
       " '了解',\n",
       " '事物',\n",
       " '今天',\n",
       " '光是在',\n",
       " '几百万年',\n",
       " '发出',\n",
       " '取决于',\n",
       " '只用',\n",
       " '后天',\n",
       " '含义',\n",
       " '大部分',\n",
       " '如何',\n",
       " '如果',\n",
       " '宇宙',\n",
       " '我们',\n",
       " '所以',\n",
       " '放弃',\n",
       " '方式',\n",
       " '明天',\n",
       " '星系',\n",
       " '晚上',\n",
       " '某样',\n",
       " '残酷',\n",
       " '每个',\n",
       " '看到',\n",
       " '真正',\n",
       " '秘密',\n",
       " '绝对',\n",
       " '美好',\n",
       " '联系',\n",
       " '过去',\n",
       " '还是',\n",
       " '这样']"
      ]
     },
     "execution_count": 63,
     "metadata": {},
     "output_type": "execute_result"
    }
   ],
   "source": [
    "transfer6.get_feature_names()"
   ]
  },
  {
   "cell_type": "code",
   "execution_count": 64,
   "metadata": {},
   "outputs": [],
   "source": [
    "# Tf-idf的重要性\n",
    "# 分类机器学习算法进行文章分类前期数据处理方式"
   ]
  }
 ],
 "metadata": {
  "kernelspec": {
   "display_name": "Python 3",
   "language": "python",
   "name": "python3"
  },
  "language_info": {
   "codemirror_mode": {
    "name": "ipython",
    "version": 3
   },
   "file_extension": ".py",
   "mimetype": "text/x-python",
   "name": "python",
   "nbconvert_exporter": "python",
   "pygments_lexer": "ipython3",
   "version": "3.5.2"
  }
 },
 "nbformat": 4,
 "nbformat_minor": 2
}
