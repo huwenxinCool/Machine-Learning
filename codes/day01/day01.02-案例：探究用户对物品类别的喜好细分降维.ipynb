{
 "cells": [
  {
   "cell_type": "code",
   "execution_count": 1,
   "metadata": {},
   "outputs": [],
   "source": [
    "# 合并表，使得user_id与aisle在一张表当中\n",
    "# 进行交叉表变换\n",
    "# 进行降维\n",
    "import pandas as pd\n",
    "from sklearn.decomposition import PCA"
   ]
  },
  {
   "cell_type": "code",
   "execution_count": null,
   "metadata": {},
   "outputs": [],
   "source": [
    "# 1.1 读取数据\n",
    "order_products = pd.read_csv(\"./data/instacart/order_products__prior.csv\")\n",
    "products = pd.read_csv(\"./data/instacart/products.csv\")\n",
    "orders = pd.read_csv(\"./data/instacart/orders.csv\")\n",
    "aisles = pd.read_csv(\"./data/instacart/aisles.csv\")"
   ]
  },
  {
   "cell_type": "code",
   "execution_count": null,
   "metadata": {},
   "outputs": [],
   "source": [
    "# 1.2 数据合并\n",
    "table1 = pd.merge(order_products, products, on=[\"product_id\", \"product_id\"])\n",
    "table2 = pd.merge(table1, orders, on=[\"order_id\", \"order_id\"])\n",
    "table = pd.merge(table2, aisles, on=[\"aisle_id\", \"aisle_id\"])"
   ]
  },
  {
   "cell_type": "code",
   "execution_count": null,
   "metadata": {},
   "outputs": [],
   "source": [
    "table.head()"
   ]
  },
  {
   "cell_type": "code",
   "execution_count": null,
   "metadata": {},
   "outputs": [],
   "source": [
    "# 1.3 数据交叉表操作\n",
    "table = pd.crosstab(table[\"user_id\"], table[\"aisle\"])"
   ]
  },
  {
   "cell_type": "code",
   "execution_count": null,
   "metadata": {},
   "outputs": [],
   "source": [
    "table.head()"
   ]
  },
  {
   "cell_type": "code",
   "execution_count": null,
   "metadata": {},
   "outputs": [],
   "source": [
    "# 2.特征工程 -- 降维-- PCA\n",
    "# 2.1 实例化一个transfer\n",
    "transfer = PCA(n_components=0.95)\n",
    "# 2.2 调用fit_transform\n",
    "table_ret = transfer.fit_transform(table)"
   ]
  },
  {
   "cell_type": "code",
   "execution_count": null,
   "metadata": {},
   "outputs": [],
   "source": [
    "table_ret"
   ]
  },
  {
   "cell_type": "code",
   "execution_count": null,
   "metadata": {},
   "outputs": [],
   "source": [
    "table_ret.shape"
   ]
  },
  {
   "cell_type": "code",
   "execution_count": null,
   "metadata": {},
   "outputs": [],
   "source": []
  }
 ],
 "metadata": {
  "kernelspec": {
   "display_name": "Python 3",
   "language": "python",
   "name": "python3"
  },
  "language_info": {
   "codemirror_mode": {
    "name": "ipython",
    "version": 3
   },
   "file_extension": ".py",
   "mimetype": "text/x-python",
   "name": "python",
   "nbconvert_exporter": "python",
   "pygments_lexer": "ipython3",
   "version": "3.5.2"
  }
 },
 "nbformat": 4,
 "nbformat_minor": 2
}
